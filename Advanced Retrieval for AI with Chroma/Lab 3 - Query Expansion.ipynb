{
 "cells": [
  {
   "cell_type": "markdown",
   "id": "293bcfbc-0883-4d68-be80-32329f3ca049",
   "metadata": {},
   "source": [
    "# Lab 3 - Query Expansion"
   ]
  },
  {
   "cell_type": "code",
   "execution_count": 1,
   "id": "5a5536f0-651c-40e7-aa15-27ee0cda80b7",
   "metadata": {
    "height": 47
   },
   "outputs": [],
   "source": [
    "from helper_utils import load_chroma, word_wrap, project_embeddings\n",
    "from chromadb.utils.embedding_functions import SentenceTransformerEmbeddingFunction"
   ]
  },
  {
   "cell_type": "code",
   "execution_count": 2,
   "id": "3748b16d-d4a7-49c3-a48a-57dcfc42acd6",
   "metadata": {
    "height": 98
   },
   "outputs": [
    {
     "data": {
      "text/plain": [
       "349"
      ]
     },
     "execution_count": 2,
     "metadata": {},
     "output_type": "execute_result"
    }
   ],
   "source": [
    "embedding_function = SentenceTransformerEmbeddingFunction()\n",
    "\n",
    "chroma_collection = load_chroma(filename='microsoft_annual_report_2022.pdf', collection_name='microsoft_annual_report_2022', embedding_function=embedding_function)\n",
    "chroma_collection.count()"
   ]
  },
  {
   "cell_type": "code",
   "execution_count": 3,
   "id": "a338ec83-6301-41a5-9ab1-e5d583306a3f",
   "metadata": {
    "height": 166
   },
   "outputs": [],
   "source": [
    "import os\n",
    "import openai\n",
    "from openai import OpenAI\n",
    "\n",
    "from dotenv import load_dotenv, find_dotenv\n",
    "_ = load_dotenv(find_dotenv()) # read local .env file\n",
    "openai.api_key = os.environ['OPENAI_API_KEY']\n",
    "\n",
    "openai_client = OpenAI()"
   ]
  },
  {
   "cell_type": "code",
   "execution_count": 4,
   "id": "888a86f8-2fe2-4682-bdaf-c15129ed1a32",
   "metadata": {
    "height": 98
   },
   "outputs": [
    {
     "name": "stderr",
     "output_type": "stream",
     "text": [
      "/usr/local/lib/python3.9/site-packages/umap/umap_.py:1943: UserWarning: n_jobs value -1 overridden to 1 by setting random_state. Use no seed for parallelism.\n",
      "  warn(f\"n_jobs value {self.n_jobs} overridden to 1 by setting random_state. Use no seed for parallelism.\")\n",
      "100%|██████████| 349/349 [07:21<00:00,  1.26s/it]\n"
     ]
    }
   ],
   "source": [
    "import umap\n",
    "\n",
    "embeddings = chroma_collection.get(include=['embeddings'])['embeddings']\n",
    "umap_transform = umap.UMAP(random_state=0, transform_seed=0).fit(embeddings)\n",
    "projected_dataset_embeddings = project_embeddings(embeddings, umap_transform)"
   ]
  },
  {
   "cell_type": "markdown",
   "id": "00cafb52-7634-4e42-a334-c4d37259c951",
   "metadata": {},
   "source": [
    "## Expansion with generated answers\n",
    "\n",
    "https://arxiv.org/abs/2305.03653"
   ]
  },
  {
   "cell_type": "code",
   "execution_count": 43,
   "id": "9769d55e",
   "metadata": {
    "height": 30
   },
   "outputs": [],
   "source": [
    "original_query = \"Was there significant turnover in the executive team?\""
   ]
  },
  {
   "cell_type": "code",
   "execution_count": 44,
   "id": "4d33e717",
   "metadata": {
    "height": 115
   },
   "outputs": [
    {
     "name": "stdout",
     "output_type": "stream",
     "text": [
      "the company engaged deloitte & touche llp, an independent registered public accounting firm, to audit and render an opinion on the consolidated financial statements and internal control over financial reporting in accordance with the standards of the public company accounting oversight board ( united states ). the board of directors, through its audit committee, consisting solely of independent directors of the company, meets periodically with management, internal auditors, and our independent registered public accounting firm to ensure that each is meeting its responsibilities and to discuss matters concerning internal controls and financial reporting. deloitte & touche llp and the internal auditors each have full and free access to the audit committee. satya nadella chief executive officer amy e. hood executive vice president and chief financial officer alice l. jolla corporate vice president and chief accounting officer\n",
      "\n",
      "• we tested the reasonableness of management ’ s judgments regarding the future resolution of the uncertain tax positions, including an evaluation of the technical merits of the uncertain tax positions. • for those uncertain tax positions that had not been effectively settled, we evaluated whether management had appropriately considered new information that could significantly change the recognition, measurement or disclosure of the uncertain tax positions. • we evaluated the reasonableness of management ’ s estimates by considering how tax law, including statutes, regulations and case law, impacted management ’ s judgments. / s / deloitte & touche llp seattle, washington july 28, 2022 we have served as the company ’ s auditor since 1983.\n",
      "\n",
      "88 report of independent registered public accounting firm to the stockholders and the board of directors of microsoft corporation opinion on internal control over financial reporting we have audited the internal control over financial reporting of microsoft corporation and subsidiaries ( the “ company ” ) as of june 30, 2022, based on criteria established in internal control — integrated framework ( 2013 ) issued by the committee of sponsoring organizations of the treadway commission ( coso ). in our opinion, the company maintained, in all material respects, effective internal control over financial reporting as of june 30, 2022, based on criteria establis hed in internal control — integrated framework ( 2013 ) issued by coso. we have also audited, in accordance with the standards of the public company accounting oversight board ( united states ) ( pcaob ), the consolidated financial statements as of and for the year ended june 30, 2022, of the company and\n",
      "\n",
      "unresolved with the irs, evaluating management ’ s estimates relating to their determination of uncertain tax positions required extensive audit effort and a high degree of auditor judgment, including involvement of our tax specialists. how the critical audit matter was addressed in the audit our principal audit procedures to evaluate management ’ s estimates of uncertain tax positions related to unresolved transfer pricing issues included the following : • we evaluated the appropriateness and consistency of management ’ s methods and assumptions used in the identification, recognition, measurement, and disclosure of uncertain tax positions, which included testing the effectiveness of the related internal controls. • we read and evaluated management ’ s documentation, including relevant accounting policies and information obtained by management from outside tax specialists, that detailed the basis of the uncertain tax positions.\n",
      "\n",
      "84 report of independent registered public accounting firm to the stockholders and the board of directors of microsoft corporation opinion on the financial statements we have audited the accompanying consolidated balance sheets of microsoft corporation and subsidiaries ( the “ company ” ) as of june 30, 2022 and 2021, the related consolidated statements of income, comprehensive income, cash flows, and stockholders ’ equity, for each of the three years in the period ended june 30, 2022, and the related notes ( collectively referred to as the “ financial statements ” ). in our opinion, the financial statements present fairly, in all mat erial respects, the financial position of the company as of june 30, 2022 and 2021, and the results of its operations and its cash flows for each of the three years in the period ended june 30, 2022, in conformity with accounting principles generally accepted in the united states of america.\n",
      "\n"
     ]
    }
   ],
   "source": [
    "results_original = chroma_collection.query(query_texts=original_query, n_results=5, include=['documents', 'embeddings'])\n",
    "retrieved_documents_original = results_original['documents'][0]\n",
    "\n",
    "for doc in retrieved_documents_original:\n",
    "    print(doc)\n",
    "    print('')"
   ]
  },
  {
   "cell_type": "code",
   "execution_count": 45,
   "id": "c2a13d14-4484-46f0-8e67-277337f9d138",
   "metadata": {
    "height": 285
   },
   "outputs": [],
   "source": [
    "def augment_query_generated(query, model=\"gpt-3.5-turbo\"):\n",
    "    messages = [\n",
    "        {\n",
    "            \"role\": \"system\",\n",
    "            \"content\": \"You are a helpful expert financial research assistant. Provide an example answer to the given question, that might be found in a document like an annual report. \"\n",
    "        },\n",
    "        {\"role\": \"user\", \"content\": query}\n",
    "    ] \n",
    "\n",
    "    response = openai_client.chat.completions.create(\n",
    "        model=model,\n",
    "        messages=messages,\n",
    "    )\n",
    "    content = response.choices[0].message.content\n",
    "    return content"
   ]
  },
  {
   "cell_type": "code",
   "execution_count": 47,
   "id": "8ba6c8c5-9ce4-44d0-9223-6fdd77871f87",
   "metadata": {
    "height": 81
   },
   "outputs": [
    {
     "name": "stdout",
     "output_type": "stream",
     "text": [
      "Was there significant turnover in the executive team? In the fiscal\n",
      "year 20XX, there were no significant changes in the executive team of\n",
      "our company. The leadership remained stable with key executives\n",
      "continuing to drive the company's strategic initiatives forward. The\n",
      "cohesive and experienced team at the executive level has been\n",
      "instrumental in achieving our financial and operational goals.\n"
     ]
    }
   ],
   "source": [
    "hypothetical_answer = augment_query_generated(original_query)\n",
    "\n",
    "joint_query = f\"{original_query} {hypothetical_answer}\"\n",
    "print(word_wrap(joint_query))"
   ]
  },
  {
   "cell_type": "code",
   "execution_count": 48,
   "id": "bfdb54db-a442-423c-b006-c33a257cd7d7",
   "metadata": {
    "height": 115
   },
   "outputs": [
    {
     "name": "stdout",
     "output_type": "stream",
     "text": [
      "30 management ’ s discussion and analysis of financial condition and results of operations the following management ’ s discussion and analysis of financial condition and results of operations ( “ md & a ” ) is intended to help the reader understand the results of operations and financial condition of microsoft corporation. md & a is provided as a supplement to, and should be read in conjunction with, our consolidated financial statements and the accompanying notes to financial statements in our fiscal year 2022 form 10 - k. this section generally discusses the results of our operations for the year ended june 30, 2022 compared to the year ended june 30, 2021. for a discussion of the year ended june 30, 2021 compared to the year ended june 30, 2020, please refer to in our fiscal year 2022 form 10 - k, “ management ’ s discussion and analysis of financial condition and results of operations ” in our annual report on form 10 - k for the year ended june 30, 2021. overview\n",
      "\n",
      "88 report of independent registered public accounting firm to the stockholders and the board of directors of microsoft corporation opinion on internal control over financial reporting we have audited the internal control over financial reporting of microsoft corporation and subsidiaries ( the “ company ” ) as of june 30, 2022, based on criteria established in internal control — integrated framework ( 2013 ) issued by the committee of sponsoring organizations of the treadway commission ( coso ). in our opinion, the company maintained, in all material respects, effective internal control over financial reporting as of june 30, 2022, based on criteria establis hed in internal control — integrated framework ( 2013 ) issued by coso. we have also audited, in accordance with the standards of the public company accounting oversight board ( united states ) ( pcaob ), the consolidated financial statements as of and for the year ended june 30, 2022, of the company and\n",
      "\n",
      "to be their authentic selves and do their best work every day. we support multiple highly active employee resource groups for women, families, racial and ethnic minorities, military, people with disabilities, and employees who identify as lgbtqia +, where employees can go for support, networking, and community - building. as described in our 2021 proxy statement, annual performance and compensation reviews of our senior leadership team include an evaluation of their contributions to employee culture and diversity. to ensure accountability over time, we publicly disclose our progress on a multitude of workforce metrics including : • detailed breakdowns of gender, racial, and ethnic minority representation in our employee population, with data by job types, levels, and segments of our business. • our eeo - 1 report ( equal employment opportunity ). • disability representation. • pay equity ( see details below ).\n",
      "\n",
      "84 report of independent registered public accounting firm to the stockholders and the board of directors of microsoft corporation opinion on the financial statements we have audited the accompanying consolidated balance sheets of microsoft corporation and subsidiaries ( the “ company ” ) as of june 30, 2022 and 2021, the related consolidated statements of income, comprehensive income, cash flows, and stockholders ’ equity, for each of the three years in the period ended june 30, 2022, and the related notes ( collectively referred to as the “ financial statements ” ). in our opinion, the financial statements present fairly, in all mat erial respects, the financial position of the company as of june 30, 2022 and 2021, and the results of its operations and its cash flows for each of the three years in the period ended june 30, 2022, in conformity with accounting principles generally accepted in the united states of america.\n",
      "\n",
      "statements would be prevented or detected. management conducted an evaluation of the effectiveness of our internal control over financial reporting based on the framework in internal control – integrated framework ( 2013 ) issued by the committee of sponsoring organizations of the treadway commission. based on this evaluation, management concluded that the company ’ s internal control over financial reporting was effective as of june 30, 2022. there were no changes in our internal control over financial reporting during the quarter ended june 30, 2022 that have materially affected, or are reasonably likely to materially affect, our internal control over financial reporting. deloitte & touche llp has audited our internal control over financial reporting as of june 30, 2022 ; their report follows.\n",
      "\n"
     ]
    }
   ],
   "source": [
    "results = chroma_collection.query(query_texts=joint_query, n_results=5, include=['documents', 'embeddings'])\n",
    "retrieved_documents = results['documents'][0]\n",
    "\n",
    "for doc in retrieved_documents:\n",
    "    print(doc)\n",
    "    print('')"
   ]
  },
  {
   "cell_type": "code",
   "execution_count": 49,
   "id": "377a84aa-1d93-4e97-9b2d-d59c46355338",
   "metadata": {
    "height": 166
   },
   "outputs": [
    {
     "name": "stderr",
     "output_type": "stream",
     "text": [
      "100%|██████████| 1/1 [00:01<00:00,  1.17s/it]\n",
      "100%|██████████| 1/1 [00:01<00:00,  1.17s/it]\n",
      "100%|██████████| 5/5 [00:06<00:00,  1.26s/it]\n",
      "100%|██████████| 5/5 [00:06<00:00,  1.27s/it]\n"
     ]
    }
   ],
   "source": [
    "retrieved_embeddings_original = results_original['embeddings'][0]\n",
    "retrieved_embeddings = results['embeddings'][0]\n",
    "original_query_embedding = embedding_function([original_query])\n",
    "augmented_query_embedding = embedding_function([joint_query])\n",
    "\n",
    "projected_original_query_embedding = project_embeddings(original_query_embedding, umap_transform)\n",
    "projected_augmented_query_embedding = project_embeddings(augmented_query_embedding, umap_transform)\n",
    "projected_retrieved_embeddings_original = project_embeddings(retrieved_embeddings_original, umap_transform)\n",
    "projected_retrieved_embeddings = project_embeddings(retrieved_embeddings, umap_transform)"
   ]
  },
  {
   "cell_type": "code",
   "execution_count": 50,
   "id": "ba0ed8ca-6640-4c09-9cb3-9de5e7cf46dc",
   "metadata": {
    "height": 217
   },
   "outputs": [
    {
     "data": {
      "text/plain": [
       "(-1.289832666516304, 8.499054208397865, 1.750054621696472, 9.173876023292541)"
      ]
     },
     "execution_count": 50,
     "metadata": {},
     "output_type": "execute_result"
    },
    {
     "data": {
      "image/png": "[encoded data removed]",
      "text/plain": [
       "<Figure size 640x480 with 1 Axes>"
      ]
     },
     "metadata": {},
     "output_type": "display_data"
    }
   ],
   "source": [
    "import matplotlib.pyplot as plt\n",
    "\n",
    "# Plot the projected query and retrieved documents in the embedding space\n",
    "plt.figure()\n",
    "plt.scatter(projected_dataset_embeddings[:, 0], projected_dataset_embeddings[:, 1], s=10, color='gray')\n",
    "plt.scatter(projected_retrieved_embeddings_original[:, 0], projected_retrieved_embeddings_original[:, 1], s=100, facecolors='none', edgecolors='r')\n",
    "plt.scatter(projected_original_query_embedding[:, 0], projected_original_query_embedding[:, 1], s=150, marker='X', color='r')\n",
    "\n",
    "plt.gca().set_aspect('equal', 'datalim')\n",
    "plt.title(f'{original_query}')\n",
    "plt.axis('off')"
   ]
  },
  {
   "cell_type": "code",
   "execution_count": 51,
   "id": "50e33c73",
   "metadata": {
    "height": 200
   },
   "outputs": [
    {
     "data": {
      "text/plain": [
       "(-1.289832666516304, 8.499054208397865, 1.750054621696472, 9.173876023292541)"
      ]
     },
     "execution_count": 51,
     "metadata": {},
     "output_type": "execute_result"
    },
    {
     "data": {
      "image/png": "[encoded data removed]",
      "text/plain": [
       "<Figure size 640x480 with 1 Axes>"
      ]
     },
     "metadata": {},
     "output_type": "display_data"
    }
   ],
   "source": [
    "plt.figure()\n",
    "plt.scatter(projected_dataset_embeddings[:, 0], projected_dataset_embeddings[:, 1], s=10, color='gray')\n",
    "plt.scatter(projected_retrieved_embeddings_original[:, 0], projected_retrieved_embeddings_original[:, 1], s=100, facecolors='none', edgecolors='r')\n",
    "plt.scatter(projected_retrieved_embeddings[:, 0], projected_retrieved_embeddings[:, 1], s=100, facecolors='none', edgecolors='g')\n",
    "plt.scatter(projected_original_query_embedding[:, 0], projected_original_query_embedding[:, 1], s=150, marker='X', color='r')\n",
    "plt.scatter(projected_augmented_query_embedding[:, 0], projected_augmented_query_embedding[:, 1], s=150, marker='X', color='g')\n",
    "\n",
    "plt.gca().set_aspect('equal', 'datalim')\n",
    "plt.title(f'{original_query}')\n",
    "plt.axis('off')"
   ]
  },
  {
   "cell_type": "markdown",
   "id": "24007a5a-4258-4f3d-8d14-d5b01bfa5cd0",
   "metadata": {},
   "source": [
    "## Expansion with multiple queries\n"
   ]
  },
  {
   "cell_type": "code",
   "execution_count": 18,
   "id": "277c1a19",
   "metadata": {
    "height": 30
   },
   "outputs": [],
   "source": [
    "original_query = \"What were the most important factors that contributed to increases in revenue?\""
   ]
  },
  {
   "cell_type": "code",
   "execution_count": 19,
   "id": "50e402c9",
   "metadata": {
    "height": 115
   },
   "outputs": [
    {
     "name": "stdout",
     "output_type": "stream",
     "text": [
      "engineering, gaming, and linkedin. • sales and marketing expenses increased $ 1. 7 billion or 8 % driven by investments in commercial sales and linkedin. sales and marketing included a favorable foreign currency impact of 2 %. • general and administrative expenses increased $ 793 million or 16 % driven by investments in corporate functions. operating income increased $ 13. 5 billion or 19 % driven by growth across each of our segments. current year net income and diluted eps were positively impacted by the net tax benefit related to the transfer of intangible properties, which resulted in an increase to net income and diluted eps of $ 3. 3 billion and $ 0. 44, respectively. prior year net income and diluted eps were positively impacted by the net tax benefit related to the india supreme court decision on withholding taxes, which resulted in an increase to net income and diluted eps of $ 620 million and $ 0. 08, respectively.\n",
      "\n",
      "independent recalculation of prices where appropriate. cash flows cash from operations increased $ 12. 3 billion to $ 89. 0 billion for fiscal year 2022, mainly due to an increase in cash received from customers, offset in part by an increase in cash paid to suppliers and employees. cash used in financing increased $ 10. 4 billion to $ 58. 9 billion for fiscal year 2022, mainly due to a $ 5. 3 billion increase in common stock repurchases and a $ 5. 3 billion increase in repayments of debt. cash used in investing increased $ 2. 7 billion to $ 30. 3 billion for fiscal year 2022, mainly due to a $ 13. 1 billion increase in cash used for acquisitions of companies, net of cash acquired, and purchases of intangible and other assets, and a $ 3. 3 billion increase in additions to property and equipment, offset in part by a $ 15. 6 billion increase in cash from net investment purchases, sales, and maturities.\n",
      "\n",
      "37 general and administrative expenses include payroll, employee benefits, stock - based compensation expense, and other headcount - related expenses associated with finance, legal, facilities, certain human resources and other administrative personnel, certain taxes, and legal and other administrative fees. general and administrative expenses increased $ 793 million or 16 % driven by investments in corporate functions. other income ( expense ), net the components of other income ( expense ), net were as follows : ( in millions ) year ended june 30, 2022 2021 interest and dividends income $ 2, 094 $ 2, 131 interest expense ( 2, 063 ) ( 2, 346 ) net recognized gains on investments 461 1, 232 net gains ( losses ) on derivatives ( 52 ) 17 net gains ( losses ) on foreign currency remeasurements ( 75 ) 54 other, net ( 32 ) 98 total $ 333 $ 1, 186\n",
      "\n",
      "product revenue includes sales from operating systems, cross - device productivity applications, server applications, business solution applications, desktop and server management tools, software development tools, video games, and hardware such as pcs, tablets, gaming and entertainment consoles, other intelligent devices, and related accessories.\n",
      "\n",
      "• windows revenue increased $ 2. 3 billion or 10 % driven by growth in windows oem and windows commercial. windows oem revenue increased 11 % driven by continued strength in the commercial pc market, which has higher revenue per license. windows commercial products and cloud services revenue increased 11 % driven by demand for microsoft 365.\n",
      "\n"
     ]
    }
   ],
   "source": [
    "results_original = chroma_collection.query(query_texts=original_query, n_results=5, include=['documents', 'embeddings'])\n",
    "retrieved_documents_original = results_original['documents'][0]\n",
    "\n",
    "for doc in retrieved_documents_original:\n",
    "    print(doc)\n",
    "    print('')"
   ]
  },
  {
   "cell_type": "code",
   "execution_count": 20,
   "id": "db9f2758-0f5a-49e5-b1fa-517b91324575",
   "metadata": {
    "height": 370
   },
   "outputs": [],
   "source": [
    "def augment_multiple_query(query, model=\"gpt-3.5-turbo\"):\n",
    "    messages = [\n",
    "        {\n",
    "            \"role\": \"system\",\n",
    "            \"content\": \"You are a helpful expert financial research assistant. Your users are asking questions about an annual report. \"\n",
    "            \"Suggest up to five additional related questions to help them find the information they need, for the provided question. \"\n",
    "            \"Suggest only short questions without compound sentences. Suggest a variety of questions that cover different aspects of the topic.\"\n",
    "            \"Make sure they are complete questions, and that they are related to the original question.\"\n",
    "            \"Output one question per line. Do not number the questions.\"\n",
    "        },\n",
    "        {\"role\": \"user\", \"content\": query}\n",
    "    ]\n",
    "\n",
    "    response = openai_client.chat.completions.create(\n",
    "        model=model,\n",
    "        messages=messages,\n",
    "    )\n",
    "    content = response.choices[0].message.content\n",
    "    content = content.split(\"\\n\")\n",
    "    return content"
   ]
  },
  {
   "cell_type": "code",
   "execution_count": 21,
   "id": "aee59493-8a99-4da8-b94f-4747efcfc79d",
   "metadata": {
    "height": 81
   },
   "outputs": [
    {
     "name": "stdout",
     "output_type": "stream",
     "text": [
      "What were the company's major sources of revenue?\n",
      "What strategies did the company implement to drive revenue growth?\n",
      "Were there any significant acquisitions or partnerships that influenced revenue growth?\n",
      "How did changes in market conditions impact the company's revenue?\n",
      "What were the key products or services that drove revenue growth?\n"
     ]
    }
   ],
   "source": [
    "augmented_queries = augment_multiple_query(original_query)\n",
    "\n",
    "for query in augmented_queries:\n",
    "    print(query)"
   ]
  },
  {
   "cell_type": "code",
   "execution_count": 25,
   "id": "f5eda9bc-ae76-4db6-9e0c-ae099d852d78",
   "metadata": {
    "height": 404
   },
   "outputs": [
    {
     "name": "stdout",
     "output_type": "stream",
     "text": [
      "commercial and consumer businesses. as we have diversity of target audiences and sales motions within the windows business, we monitor metrics that are reflective of those varying motions. windows oem revenue growth revenue from sales of windows pro and non - pro licenses sold through the oem channel windows commercial products and cloud services revenue growth revenue from windows commercial products and cloud services, comprising volume licensing of the windows operating system, windows cloud services, and other windows commercial offerings surface revenue growth revenue from surface devices and accessories xbox content and services revenue growth revenue from xbox content and services, comprising first - and third - party content ( including games and in - game content ), xbox game pass and other subscriptions, xbox cloud gaming, third - party disc royalties, advertising, and other cloud services search and news advertising revenue,\n",
      "\n",
      "• windows revenue increased $ 2. 3 billion or 10 % driven by growth in windows oem and windows commercial. windows oem revenue increased 11 % driven by continued strength in the commercial pc market, which has higher revenue per license. windows commercial products and cloud services revenue increased 11 % driven by demand for microsoft 365.\n",
      "\n",
      "35 reportable segments fiscal year 2022 compared with fiscal year 2021 productivity and business processes revenue increased $ 9. 4 billion or 18 %. • office commercial products and cloud services revenue increased $ 4. 4 billion or 13 %. office 365 commercial revenue grew 18 % driven by seat growth of 14 %, with continued momentum in small and medium business and frontline worker offerings, as well as growth in revenue per user. office commercial products revenue declined 22 % driven by continued customer shift to cloud offerings. • office consumer products and cloud services revenue increased $ 641 million or 11 % driven by microsoft 365 consumer subscription revenue. microsoft 365 consumer subscribers grew 15 % to 59. 7 million. • linkedin revenue increased $ 3. 5 billion or 34 % driven by a strong job market in our talent solutions business and advertising demand in our marketing solutions business.\n",
      "\n",
      "product revenue includes sales from operating systems, cross - device productivity applications, server applications, business solution applications, desktop and server management tools, software development tools, video games, and hardware such as pcs, tablets, gaming and entertainment consoles, other intelligent devices, and related accessories.\n",
      "\n",
      "36 • search and news advertising revenue increased $ 2. 3 billion or 25 %. search and news advertising revenue excluding traffic acquisition costs increased 27 % driven by higher revenue per search and search volume. • gaming revenue increased $ 860 million or 6 % on a strong prior year comparable that benefited from xbox series x | s launches and stay - at - home scenarios, driven by growth in xbox hardware and xbox content and services. xbox hardware revenue increased 16 % due to continued demand for xbox series x | s. xbox content and services revenue increased 3 % driven by growth in xbox game pass subscriptions and first - party content, offset in part by a decline in third - party content. • surface revenue increased $ 226 million or 3 %. operating income increased $ 1. 5 billion or 8 %. • gross margin increased $ 3. 1 billion or 10 % driven by growth in windows and search and news advertising. gross margin percentage was relatively unchanged.\n",
      "\n",
      "the estimates used to calculate the fair value of a reporting unit change from year to year based on operating results, market conditions, and other factors. changes in these estimates and assumptions could materially affect the determination of fair value and goodwill impairment for each reporting unit. research and development costs costs incurred internally in researching and developing a computer software product are charged to expense until technological feasibility has been established for the product. once technological feasibility is established, software costs are capitalized until the product is available for general release to customers. judgment is required in determining when technological feasibility of a product is established. we have determined that technological feasibility for our software products is reached after all high - risk development issues have been resolved through coding and testing. generally, this\n",
      "\n",
      "82 in addition, certain costs incurred at a corporate level that are identifiable and that benefit our segments are allocated to them. these allocated costs include legal, including settlements and fines, information technology, human resources, finance, excise taxes, field selling, shared facilities services, and customer service and support. each allocation is measured differently based on the specific facts and circumstances of the costs being allocated. segment revenue and operating income were as follows during the periods presented : ( in millions ) year ended june 30, 2022 2021 2020 revenue productivity and business processes $ 63, 364 $ 53, 915 $ 46, 398 intelligent cloud 75, 251 60, 080 48, 366 more personal computing 59, 655 54, 093 48, 251 total $ 198, 270 $ 168, 088 $ 143, 015 operating income\n",
      "\n",
      "productivity and business processes $ 29, 687 $ 24, 351 $ 18, 724 intelligent cloud 32, 721 26, 126 18, 324 more personal computing 20, 975 19, 439 15, 911 total $ 83, 383 $ 69, 916 $ 52, 959 no sales to an individual customer or country other than the united states accounted for more than 10 % of revenue for fiscal years 2022, 2021, or 2020. revenue, classified by the major geographic areas in which our customers were located, was as follows : ( in millions ) year ended june 30, 2022 2021 2020 united states ( a ) $ 100, 218 $ 83, 953 $ 73, 160 other countries 98, 052 84, 135 69, 855 total $ 198, 270 $ 168, 088 $ 143, 015 ( a ) includes billings to oems and certain multinational organizations because of the nature of these businesses and the impracticability of determining the geographic source of the revenue.\n",
      "\n",
      "revenue, classified by significant product and service offerings, was as follows : ( in millions ) year ended june 30, 2022 2021 2020 server products and cloud services $ 67, 321 $ 52, 589 $ 41, 379 office products and cloud services 44, 862 39, 872 35, 316 windows 24, 761 22, 488 21, 510 gaming 16, 230 15, 370 11, 575 linkedin 13, 816 10, 289 8, 077 search and news advertising 11, 591 9, 267 8, 524 enterprise services 7, 407 6, 943 6, 409 devices 6, 991 6, 791 6, 457 other 5, 291 4, 479 3, 768 total $ 198, 270 $ 168, 088 $ 143, 015 we have recast certain previously reported amounts in the table above to conform to the way we internally manage and monitor our business.\n",
      "\n",
      "occurs shortly before the products are released to production. the amortization of these costs is included in cost of revenue over the estimated life of the products. legal and other contingencies the outcomes of legal proceedings and claims brought against us are subject to significant uncertainty. an estimated loss from a loss contingency such as a legal proceeding or claim is accrued by a charge to income if it is probable that an asset has been impaired or a liability has been incurred and the amount of the loss can be reasonably estimated. in determining whether a loss should be accrued we evaluate, among other factors, the degree of probability of an unfavorable outcome and the ability to make a reasonable estimate of the amount of loss. changes in these factors could materially impact our consolidated financial statements.\n",
      "\n",
      "recognition, determining the nature and timing of satisfaction of performance obligations, and determining the standalone selling price ( “ ssp ” ) of performance obligations, variable consideration, and other obligations such as product returns and refunds ; loss contingencies ; product warranties ; the fair value of and / or potential impairment of goodwill and intangible assets for our reporting units ; product life cycles ; useful lives of our tangible and intangible assets ; allowances for doubt ful accounts ; the market value of, and demand for, our inventory ; stock - based compensation forfeiture rates ; when technological feasibility is achieved for our products ; the potential outcome of uncertain tax positions that have been recognized in our consolidated financial statements or tax returns ; and determining the timing and amount of impairments for investments. actual results and outcomes may differ from management ’ s estimates and assumptions due to risks and uncertainties.\n",
      "\n",
      "engineering, gaming, and linkedin. • sales and marketing expenses increased $ 1. 7 billion or 8 % driven by investments in commercial sales and linkedin. sales and marketing included a favorable foreign currency impact of 2 %. • general and administrative expenses increased $ 793 million or 16 % driven by investments in corporate functions. operating income increased $ 13. 5 billion or 19 % driven by growth across each of our segments. current year net income and diluted eps were positively impacted by the net tax benefit related to the transfer of intangible properties, which resulted in an increase to net income and diluted eps of $ 3. 3 billion and $ 0. 44, respectively. prior year net income and diluted eps were positively impacted by the net tax benefit related to the india supreme court decision on withholding taxes, which resulted in an increase to net income and diluted eps of $ 620 million and $ 0. 08, respectively.\n",
      "\n",
      "( in millions, except percentages ) 2022 2021 percentage change sales and marketing $ 21, 825 $ 20, 117 8 % as a percent of revenue 11 % 12 % ( 1 ) ppt sales and marketing expenses include payroll, employee benefits, stock - based compensation expense, and other headcount - related expenses associated with sales and marketing personnel, and the costs of advertising, promotions, trade shows, seminars, and other programs. sales and marketing expenses increased $ 1. 7 billion or 8 % driven by investments in commercial sales and linkedin. sales and marketing included a favorable foreign currency impact of 2 %. general and administrative ( in millions, except percentages ) 2022 2021 percentage change general and administrative $ 5, 900 $ 5, 107 16 % as a percent of revenue 3 % 3 % 0ppt\n",
      "\n",
      "37 general and administrative expenses include payroll, employee benefits, stock - based compensation expense, and other headcount - related expenses associated with finance, legal, facilities, certain human resources and other administrative personnel, certain taxes, and legal and other administrative fees. general and administrative expenses increased $ 793 million or 16 % driven by investments in corporate functions. other income ( expense ), net the components of other income ( expense ), net were as follows : ( in millions ) year ended june 30, 2022 2021 interest and dividends income $ 2, 094 $ 2, 131 interest expense ( 2, 063 ) ( 2, 346 ) net recognized gains on investments 461 1, 232 net gains ( losses ) on derivatives ( 52 ) 17 net gains ( losses ) on foreign currency remeasurements ( 75 ) 54 other, net ( 32 ) 98 total $ 333 $ 1, 186\n",
      "\n",
      "independent recalculation of prices where appropriate. cash flows cash from operations increased $ 12. 3 billion to $ 89. 0 billion for fiscal year 2022, mainly due to an increase in cash received from customers, offset in part by an increase in cash paid to suppliers and employees. cash used in financing increased $ 10. 4 billion to $ 58. 9 billion for fiscal year 2022, mainly due to a $ 5. 3 billion increase in common stock repurchases and a $ 5. 3 billion increase in repayments of debt. cash used in investing increased $ 2. 7 billion to $ 30. 3 billion for fiscal year 2022, mainly due to a $ 13. 1 billion increase in cash used for acquisitions of companies, net of cash acquired, and purchases of intangible and other assets, and a $ 3. 3 billion increase in additions to property and equipment, offset in part by a $ 15. 6 billion increase in cash from net investment purchases, sales, and maturities.\n",
      "\n",
      "34 net income tax benefit related to an india supreme court decision on withholding taxes in the third quarter of fiscal year 2021. refer to the non - gaap financial measures section below for a reconciliation of our financial results reported in accordance with gaap to non - gaap financial results. see note 12 – income taxes of the notes to financial statements in our fiscal year 2022 form 10 - k for further discussion. fiscal year 2022 compared with fiscal year 2021 revenue increased $ 30. 2 billion or 18 % driven by growth across each of our segments. intelligent cloud revenue increased driven by azure and other cloud services. productivity and business processes revenue increased driven by office 365 commercial and linkedin. more personal computing revenue increased driven by search and news advertising and windows. cost of revenue increased $ 10. 4 billion or 20 % driven by growth in microsoft cloud.\n",
      "\n",
      "• dynamics products and cloud services revenue increased 25 % driven by dynamics 365 growth of 39 %. operating income increased $ 5. 3 billion or 22 %. • gross margin increased $ 7. 3 billion or 17 % driven by growth in office 365 commercial and linkedin. gross margin percentage was relatively unchanged. excluding the impact of the change in accounting estimate, gross margin percentage increased 2 points driven by improvement across all cloud services. • operating expenses increased $ 2. 0 billion or 11 % driven by investments in linkedin and cloud engineering. gross margin and operating income both included an unfavorable foreign currency impact of 2 %. intelligent cloud revenue increased $ 15. 2 billion or 25 %. • server products and cloud services revenue increased $ 14. 7 billion or 28 % driven by azure and other cloud services. azure and other cloud services revenue grew 45 % driven by growth in our consumption - based\n",
      "\n"
     ]
    }
   ],
   "source": [
    "queries = [original_query] + augmented_queries\n",
    "results = chroma_collection.query(query_texts=queries, n_results=5, include=['documents', 'embeddings'])\n",
    "\n",
    "retrieved_documents = results['documents']\n",
    "\n",
    "# Deduplicate the retrieved documents\n",
    "unique_documents = set()\n",
    "for documents in retrieved_documents:\n",
    "    for document in documents:\n",
    "        unique_documents.add(document)\n",
    "\n",
    "for doc in unique_documents:\n",
    "    print(doc)\n",
    "    print('')\n",
    "\n",
    "# for i, documents in enumerate(retrieved_documents):\n",
    "#     print(f\"Query: {queries[i]}\")\n",
    "#     print('')\n",
    "#     print(\"Results:\")\n",
    "#     for doc in documents:\n",
    "#         print(doc)\n",
    "#         print('')\n",
    "#     print('-'*100)"
   ]
  },
  {
   "cell_type": "code",
   "execution_count": 26,
   "id": "b1183e75-4c65-422e-bc47-48010d8b29c9",
   "metadata": {
    "height": 98
   },
   "outputs": [
    {
     "name": "stderr",
     "output_type": "stream",
     "text": [
      "100%|██████████| 1/1 [00:01<00:00,  1.23s/it]\n",
      "100%|██████████| 5/5 [00:06<00:00,  1.32s/it]\n"
     ]
    }
   ],
   "source": [
    "original_query_embedding = embedding_function([original_query])\n",
    "augmented_query_embeddings = embedding_function(augmented_queries)\n",
    "\n",
    "project_original_query = project_embeddings(original_query_embedding, umap_transform)\n",
    "project_augmented_queries = project_embeddings(augmented_query_embeddings, umap_transform)"
   ]
  },
  {
   "cell_type": "code",
   "execution_count": 29,
   "id": "5fcd85cc-8898-41ed-a0aa-bd8a33fc565a",
   "metadata": {
    "height": 64
   },
   "outputs": [
    {
     "name": "stderr",
     "output_type": "stream",
     "text": [
      "100%|██████████| 30/30 [00:37<00:00,  1.25s/it]\n"
     ]
    }
   ],
   "source": [
    "result_embeddings = results['embeddings']\n",
    "result_embeddings = [item for sublist in result_embeddings for item in sublist]\n",
    "projected_result_embeddings = project_embeddings(result_embeddings, umap_transform)"
   ]
  },
  {
   "cell_type": "code",
   "execution_count": 42,
   "id": "c65337e9-85ee-47f7-89fd-7fe77cd0e1b2",
   "metadata": {
    "height": 200
   },
   "outputs": [
    {
     "data": {
      "text/plain": [
       "(-1.289832666516304, 8.499054208397865, 1.750054621696472, 9.173876023292541)"
      ]
     },
     "execution_count": 42,
     "metadata": {},
     "output_type": "execute_result"
    },
    {
     "data": {
      "image/png": "[encoded data removed]",
      "text/plain": [
       "<Figure size 640x480 with 1 Axes>"
      ]
     },
     "metadata": {},
     "output_type": "display_data"
    }
   ],
   "source": [
    "import matplotlib.pyplot as plt\n",
    "\n",
    "plt.figure()\n",
    "plt.scatter(projected_dataset_embeddings[:, 0], projected_dataset_embeddings[:, 1], s=10, color='gray')\n",
    "plt.scatter(projected_result_embeddings[:5, 0], projected_result_embeddings[:5, 1], s=100, facecolors='none', edgecolors='r')\n",
    "plt.scatter(project_original_query[:, 0], project_original_query[:, 1], s=150, marker='X', color='r')\n",
    "\n",
    "plt.gca().set_aspect('equal', 'datalim')\n",
    "plt.title(f'{original_query}')\n",
    "plt.axis('off')"
   ]
  },
  {
   "cell_type": "code",
   "execution_count": 40,
   "id": "a7794092-4195-4cf3-9eab-11c9c05a26b9",
   "metadata": {
    "height": 200
   },
   "outputs": [
    {
     "data": {
      "text/plain": [
       "(-1.289832666516304, 8.499054208397865, 1.750054621696472, 9.173876023292541)"
      ]
     },
     "execution_count": 40,
     "metadata": {},
     "output_type": "execute_result"
    },
    {
     "data": {
      "image/png": "[encoded data removed]",
      "text/plain": [
       "<Figure size 640x480 with 1 Axes>"
      ]
     },
     "metadata": {},
     "output_type": "display_data"
    }
   ],
   "source": [
    "plt.figure()\n",
    "plt.scatter(projected_dataset_embeddings[:, 0], projected_dataset_embeddings[:, 1], s=10, color='gray')\n",
    "plt.scatter(project_augmented_queries[:, 0], project_augmented_queries[:, 1], s=150, marker='X', color='g')\n",
    "plt.scatter(projected_result_embeddings[:5, 0], projected_result_embeddings[:5, 1], s=100, facecolors='none', edgecolors='r')\n",
    "plt.scatter(projected_result_embeddings[5:, 0], projected_result_embeddings[5:, 1], s=100, facecolors='none', edgecolors='g')\n",
    "plt.scatter(project_original_query[:, 0], project_original_query[:, 1], s=150, marker='X', color='r')\n",
    "\n",
    "plt.gca().set_aspect('equal', 'datalim')\n",
    "plt.title(f'{original_query}')\n",
    "plt.axis('off')"
   ]
  },
  {
   "cell_type": "code",
   "execution_count": null,
   "id": "f2cab7a1-1be7-45f0-83b7-543e48f83901",
   "metadata": {
    "height": 30
   },
   "outputs": [],
   "source": []
  },
  {
   "cell_type": "code",
   "execution_count": null,
   "id": "fe0343be-73c9-4aed-83b0-aba09569ac87",
   "metadata": {
    "height": 30
   },
   "outputs": [],
   "source": []
  },
  {
   "cell_type": "code",
   "execution_count": null,
   "id": "6f0f3e33-e517-4f6b-8b38-c47c1e3d40b4",
   "metadata": {
    "height": 30
   },
   "outputs": [],
   "source": []
  },
  {
   "cell_type": "code",
   "execution_count": null,
   "id": "a16fdcb1-57d0-4f04-af8f-7c7fc594d947",
   "metadata": {
    "height": 30
   },
   "outputs": [],
   "source": []
  },
  {
   "cell_type": "code",
   "execution_count": null,
   "id": "babe7893-9cbc-43c5-94ef-cbf8f5d68cf2",
   "metadata": {
    "height": 30
   },
   "outputs": [],
   "source": []
  },
  {
   "cell_type": "code",
   "execution_count": null,
   "id": "60a9524b-1085-4bdf-a161-39f11397dc1f",
   "metadata": {
    "height": 30
   },
   "outputs": [],
   "source": []
  },
  {
   "cell_type": "code",
   "execution_count": null,
   "id": "d189f088-b58e-4583-9590-afdfa624cf87",
   "metadata": {
    "height": 30
   },
   "outputs": [],
   "source": []
  },
  {
   "cell_type": "code",
   "execution_count": null,
   "id": "7b26a01a-4575-446b-b8dc-a8c5ab153172",
   "metadata": {
    "height": 30
   },
   "outputs": [],
   "source": []
  },
  {
   "cell_type": "code",
   "execution_count": null,
   "id": "0950575b-b69d-46a3-8c91-c7af89f5c204",
   "metadata": {
    "height": 30
   },
   "outputs": [],
   "source": []
  },
  {
   "cell_type": "code",
   "execution_count": null,
   "id": "3f123ad8-b2e8-4a25-8b42-a520ecaf566b",
   "metadata": {
    "height": 30
   },
   "outputs": [],
   "source": []
  },
  {
   "cell_type": "code",
   "execution_count": null,
   "id": "83c04587-d1de-419c-a213-2e3eb67dc33d",
   "metadata": {
    "height": 30
   },
   "outputs": [],
   "source": []
  },
  {
   "cell_type": "code",
   "execution_count": null,
   "id": "d3155972-824e-4ebe-a692-2227c113c5a8",
   "metadata": {
    "height": 30
   },
   "outputs": [],
   "source": []
  },
  {
   "cell_type": "code",
   "execution_count": null,
   "id": "d8144a4a-85f6-4800-87f9-36a1b6ceda1f",
   "metadata": {
    "height": 30
   },
   "outputs": [],
   "source": []
  },
  {
   "cell_type": "code",
   "execution_count": null,
   "id": "8ff0b18e-12a0-4ac0-97dd-8618b22e7dbf",
   "metadata": {
    "height": 30
   },
   "outputs": [],
   "source": []
  },
  {
   "cell_type": "code",
   "execution_count": null,
   "id": "03ca7e7c-4b47-4652-9b46-a40b3dffa5e6",
   "metadata": {
    "height": 30
   },
   "outputs": [],
   "source": []
  },
  {
   "cell_type": "code",
   "execution_count": null,
   "id": "f74e7d67-7f51-41c4-8e25-edbaa02d0bd8",
   "metadata": {
    "height": 30
   },
   "outputs": [],
   "source": []
  },
  {
   "cell_type": "code",
   "execution_count": null,
   "id": "9188e886-d406-406f-b234-f5c3353a77a2",
   "metadata": {
    "height": 30
   },
   "outputs": [],
   "source": []
  },
  {
   "cell_type": "code",
   "execution_count": null,
   "id": "3d3bb286-2694-4ed4-8466-46865e997ced",
   "metadata": {
    "height": 30
   },
   "outputs": [],
   "source": []
  },
  {
   "cell_type": "code",
   "execution_count": null,
   "id": "2876084b-4038-4b0c-8ec8-8294a86adfc1",
   "metadata": {
    "height": 30
   },
   "outputs": [],
   "source": []
  },
  {
   "cell_type": "code",
   "execution_count": null,
   "id": "3ac542e1-b094-431f-9611-cf7e36d3f0de",
   "metadata": {
    "height": 30
   },
   "outputs": [],
   "source": []
  },
  {
   "cell_type": "code",
   "execution_count": null,
   "id": "bcd6114b-c09d-4173-a623-9a08aaf63e4b",
   "metadata": {
    "height": 30
   },
   "outputs": [],
   "source": []
  },
  {
   "cell_type": "code",
   "execution_count": null,
   "id": "ad10ab65-b351-4f4b-b7d2-63474acfb9f9",
   "metadata": {
    "height": 30
   },
   "outputs": [],
   "source": []
  },
  {
   "cell_type": "code",
   "execution_count": null,
   "id": "800f3d81-cbdb-4ba4-8d49-85747fdfded8",
   "metadata": {
    "height": 30
   },
   "outputs": [],
   "source": []
  },
  {
   "cell_type": "code",
   "execution_count": null,
   "id": "37847448-c9f6-4f51-bf06-f7809964a8b2",
   "metadata": {
    "height": 30
   },
   "outputs": [],
   "source": []
  },
  {
   "cell_type": "code",
   "execution_count": null,
   "id": "2dcefc87-0964-4b94-946b-2145781ad606",
   "metadata": {
    "height": 30
   },
   "outputs": [],
   "source": []
  },
  {
   "cell_type": "code",
   "execution_count": null,
   "id": "5fc994bc-7b1e-476a-9df9-300a3e374882",
   "metadata": {
    "height": 30
   },
   "outputs": [],
   "source": []
  },
  {
   "cell_type": "code",
   "execution_count": null,
   "id": "9ef5f5d5-acb7-4b0a-93ef-e61306708e69",
   "metadata": {
    "height": 30
   },
   "outputs": [],
   "source": []
  },
  {
   "cell_type": "code",
   "execution_count": null,
   "id": "44e4b33f-d8fb-4f3a-b884-8b43a3766583",
   "metadata": {
    "height": 30
   },
   "outputs": [],
   "source": []
  },
  {
   "cell_type": "code",
   "execution_count": null,
   "id": "c2a480a2-2c29-4a01-80dd-ee41934b7901",
   "metadata": {
    "height": 30
   },
   "outputs": [],
   "source": []
  },
  {
   "cell_type": "code",
   "execution_count": null,
   "id": "8127c2bf-0d15-4b62-b46a-f7a17ad2ec92",
   "metadata": {
    "height": 30
   },
   "outputs": [],
   "source": []
  },
  {
   "cell_type": "code",
   "execution_count": null,
   "id": "18ded129-a637-4269-a116-550fe9a90570",
   "metadata": {
    "height": 30
   },
   "outputs": [],
   "source": []
  },
  {
   "cell_type": "code",
   "execution_count": null,
   "id": "c1d7ee44-7b29-483f-a3f2-cc9d8e18880e",
   "metadata": {
    "height": 30
   },
   "outputs": [],
   "source": []
  },
  {
   "cell_type": "code",
   "execution_count": null,
   "id": "8e450dd8-9719-42c6-8c3c-33cac910e0a5",
   "metadata": {
    "height": 30
   },
   "outputs": [],
   "source": []
  }
 ],
 "metadata": {
  "kernelspec": {
   "display_name": "Python 3 (ipykernel)",
   "language": "python",
   "name": "python3"
  },
  "language_info": {
   "codemirror_mode": {
    "name": "ipython",
    "version": 3
   },
   "file_extension": ".py",
   "mimetype": "text/x-python",
   "name": "python",
   "nbconvert_exporter": "python",
   "pygments_lexer": "ipython3",
   "version": "3.9.18"
  }
 },
 "nbformat": 4,
 "nbformat_minor": 5
}
