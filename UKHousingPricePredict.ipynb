{
  "nbformat": 4,
  "nbformat_minor": 0,
  "metadata": {
    "colab": {
      "provenance": [],
      "toc_visible": true
    },
    "kernelspec": {
      "name": "python3",
      "display_name": "Python 3"
    },
    "language_info": {
      "name": "python"
    }
  },
  "cells": [
    {
      "cell_type": "markdown",
      "source": [
        "# Data Source: Kaggle / UK Housing Prices Paid"
      ],
      "metadata": {
        "id": "f2uKGYNZaF3O"
      }
    },
    {
      "cell_type": "markdown",
      "source": [
        "https://www.kaggle.com/datasets/hm-land-registry/uk-housing-prices-paid?resource=download"
      ],
      "metadata": {
        "id": "uU_gKl-Qjtch"
      }
    },
    {
      "cell_type": "code",
      "execution_count": 1,
      "metadata": {
        "id": "aSLnwY26i00T",
        "colab": {
          "base_uri": "https://localhost:8080/"
        },
        "outputId": "29448651-5413-4111-870c-0da3261ba0c9"
      },
      "outputs": [
        {
          "output_type": "stream",
          "name": "stdout",
          "text": [
            "Mounted at /content/drive/\n"
          ]
        }
      ],
      "source": [
        "from google.colab import drive\n",
        "\n",
        "drive.mount('/content/drive/')"
      ]
    },
    {
      "cell_type": "code",
      "source": [
        "import numpy as np\n",
        "import pandas as pd\n",
        "import matplotlib.pyplot as plt\n",
        "import xgboost as xgb\n",
        "from sklearn.metrics import mean_squared_error, r2_score\n",
        "from sklearn.model_selection import TimeSeriesSplit, GridSearchCV\n",
        "import itertools"
      ],
      "metadata": {
        "id": "x05W0jMKjUM4"
      },
      "execution_count": 13,
      "outputs": []
    },
    {
      "cell_type": "code",
      "source": [
        "df_raw = pd.read_csv('/content/drive/MyDrive/Colab Notebooks/dataset/price_paid_records.csv')"
      ],
      "metadata": {
        "id": "CCgpZuDGjcMg"
      },
      "execution_count": null,
      "outputs": []
    },
    {
      "cell_type": "code",
      "source": [
        "df_raw.head(2)"
      ],
      "metadata": {
        "colab": {
          "base_uri": "https://localhost:8080/",
          "height": 225
        },
        "id": "YBeoQtF7kyCZ",
        "outputId": "0a4f5a6f-4b65-418a-dece-bf6ae09930ea"
      },
      "execution_count": null,
      "outputs": [
        {
          "output_type": "execute_result",
          "data": {
            "text/plain": [
              "            Transaction unique identifier  Price  Date of Transfer  \\\n",
              "0  {81B82214-7FBC-4129-9F6B-4956B4A663AD}  25000  1995-08-18 00:00   \n",
              "1  {8046EC72-1466-42D6-A753-4956BF7CD8A2}  42500  1995-08-09 00:00   \n",
              "\n",
              "  Property Type Old/New Duration Town/City  District              County  \\\n",
              "0             T       N        F    OLDHAM    OLDHAM  GREATER MANCHESTER   \n",
              "1             S       N        F     GRAYS  THURROCK            THURROCK   \n",
              "\n",
              "  PPDCategory Type Record Status - monthly file only  \n",
              "0                A                                 A  \n",
              "1                A                                 A  "
            ],
            "text/html": [
              "\n",
              "  <div id=\"df-fd7285f7-c23c-4672-aa4f-200a4af7c4e3\">\n",
              "    <div class=\"colab-df-container\">\n",
              "      <div>\n",
              "<style scoped>\n",
              "    .dataframe tbody tr th:only-of-type {\n",
              "        vertical-align: middle;\n",
              "    }\n",
              "\n",
              "    .dataframe tbody tr th {\n",
              "        vertical-align: top;\n",
              "    }\n",
              "\n",
              "    .dataframe thead th {\n",
              "        text-align: right;\n",
              "    }\n",
              "</style>\n",
              "<table border=\"1\" class=\"dataframe\">\n",
              "  <thead>\n",
              "    <tr style=\"text-align: right;\">\n",
              "      <th></th>\n",
              "      <th>Transaction unique identifier</th>\n",
              "      <th>Price</th>\n",
              "      <th>Date of Transfer</th>\n",
              "      <th>Property Type</th>\n",
              "      <th>Old/New</th>\n",
              "      <th>Duration</th>\n",
              "      <th>Town/City</th>\n",
              "      <th>District</th>\n",
              "      <th>County</th>\n",
              "      <th>PPDCategory Type</th>\n",
              "      <th>Record Status - monthly file only</th>\n",
              "    </tr>\n",
              "  </thead>\n",
              "  <tbody>\n",
              "    <tr>\n",
              "      <th>0</th>\n",
              "      <td>{81B82214-7FBC-4129-9F6B-4956B4A663AD}</td>\n",
              "      <td>25000</td>\n",
              "      <td>1995-08-18 00:00</td>\n",
              "      <td>T</td>\n",
              "      <td>N</td>\n",
              "      <td>F</td>\n",
              "      <td>OLDHAM</td>\n",
              "      <td>OLDHAM</td>\n",
              "      <td>GREATER MANCHESTER</td>\n",
              "      <td>A</td>\n",
              "      <td>A</td>\n",
              "    </tr>\n",
              "    <tr>\n",
              "      <th>1</th>\n",
              "      <td>{8046EC72-1466-42D6-A753-4956BF7CD8A2}</td>\n",
              "      <td>42500</td>\n",
              "      <td>1995-08-09 00:00</td>\n",
              "      <td>S</td>\n",
              "      <td>N</td>\n",
              "      <td>F</td>\n",
              "      <td>GRAYS</td>\n",
              "      <td>THURROCK</td>\n",
              "      <td>THURROCK</td>\n",
              "      <td>A</td>\n",
              "      <td>A</td>\n",
              "    </tr>\n",
              "  </tbody>\n",
              "</table>\n",
              "</div>\n",
              "      <button class=\"colab-df-convert\" onclick=\"convertToInteractive('df-fd7285f7-c23c-4672-aa4f-200a4af7c4e3')\"\n",
              "              title=\"Convert this dataframe to an interactive table.\"\n",
              "              style=\"display:none;\">\n",
              "        \n",
              "  <svg xmlns=\"http://www.w3.org/2000/svg\" height=\"24px\"viewBox=\"0 0 24 24\"\n",
              "       width=\"24px\">\n",
              "    <path d=\"M0 0h24v24H0V0z\" fill=\"none\"/>\n",
              "    <path d=\"M18.56 5.44l.94 2.06.94-2.06 2.06-.94-2.06-.94-.94-2.06-.94 2.06-2.06.94zm-11 1L8.5 8.5l.94-2.06 2.06-.94-2.06-.94L8.5 2.5l-.94 2.06-2.06.94zm10 10l.94 2.06.94-2.06 2.06-.94-2.06-.94-.94-2.06-.94 2.06-2.06.94z\"/><path d=\"M17.41 7.96l-1.37-1.37c-.4-.4-.92-.59-1.43-.59-.52 0-1.04.2-1.43.59L10.3 9.45l-7.72 7.72c-.78.78-.78 2.05 0 2.83L4 21.41c.39.39.9.59 1.41.59.51 0 1.02-.2 1.41-.59l7.78-7.78 2.81-2.81c.8-.78.8-2.07 0-2.86zM5.41 20L4 18.59l7.72-7.72 1.47 1.35L5.41 20z\"/>\n",
              "  </svg>\n",
              "      </button>\n",
              "      \n",
              "  <style>\n",
              "    .colab-df-container {\n",
              "      display:flex;\n",
              "      flex-wrap:wrap;\n",
              "      gap: 12px;\n",
              "    }\n",
              "\n",
              "    .colab-df-convert {\n",
              "      background-color: #E8F0FE;\n",
              "      border: none;\n",
              "      border-radius: 50%;\n",
              "      cursor: pointer;\n",
              "      display: none;\n",
              "      fill: #1967D2;\n",
              "      height: 32px;\n",
              "      padding: 0 0 0 0;\n",
              "      width: 32px;\n",
              "    }\n",
              "\n",
              "    .colab-df-convert:hover {\n",
              "      background-color: #E2EBFA;\n",
              "      box-shadow: 0px 1px 2px rgba(60, 64, 67, 0.3), 0px 1px 3px 1px rgba(60, 64, 67, 0.15);\n",
              "      fill: #174EA6;\n",
              "    }\n",
              "\n",
              "    [theme=dark] .colab-df-convert {\n",
              "      background-color: #3B4455;\n",
              "      fill: #D2E3FC;\n",
              "    }\n",
              "\n",
              "    [theme=dark] .colab-df-convert:hover {\n",
              "      background-color: #434B5C;\n",
              "      box-shadow: 0px 1px 3px 1px rgba(0, 0, 0, 0.15);\n",
              "      filter: drop-shadow(0px 1px 2px rgba(0, 0, 0, 0.3));\n",
              "      fill: #FFFFFF;\n",
              "    }\n",
              "  </style>\n",
              "\n",
              "      <script>\n",
              "        const buttonEl =\n",
              "          document.querySelector('#df-fd7285f7-c23c-4672-aa4f-200a4af7c4e3 button.colab-df-convert');\n",
              "        buttonEl.style.display =\n",
              "          google.colab.kernel.accessAllowed ? 'block' : 'none';\n",
              "\n",
              "        async function convertToInteractive(key) {\n",
              "          const element = document.querySelector('#df-fd7285f7-c23c-4672-aa4f-200a4af7c4e3');\n",
              "          const dataTable =\n",
              "            await google.colab.kernel.invokeFunction('convertToInteractive',\n",
              "                                                     [key], {});\n",
              "          if (!dataTable) return;\n",
              "\n",
              "          const docLinkHtml = 'Like what you see? Visit the ' +\n",
              "            '<a target=\"_blank\" href=https://colab.research.google.com/notebooks/data_table.ipynb>data table notebook</a>'\n",
              "            + ' to learn more about interactive tables.';\n",
              "          element.innerHTML = '';\n",
              "          dataTable['output_type'] = 'display_data';\n",
              "          await google.colab.output.renderOutput(dataTable, element);\n",
              "          const docLink = document.createElement('div');\n",
              "          docLink.innerHTML = docLinkHtml;\n",
              "          element.appendChild(docLink);\n",
              "        }\n",
              "      </script>\n",
              "    </div>\n",
              "  </div>\n",
              "  "
            ]
          },
          "metadata": {},
          "execution_count": 3
        }
      ]
    },
    {
      "cell_type": "markdown",
      "source": [
        "- Transaction unique identifier: A reference number which is generated automatically recording each published sale. The number is unique and will change each time a sale is recorded.\n",
        "- Price Sale: price stated on the transfer deed.\n",
        "- Date of Transfer: Date when the sale was completed, as stated on the transfer deed.\n",
        "- Property Type: D = Detached, S = Semi-Detached, T = Terraced, F = Flats/Maisonettes, O = Other.\n",
        "- Old/New: Indicates the age of the property and applies to all price paid transactions, residential and non-residential. \n",
        " - Y = a newly built property\n",
        " - N = an established residential building.\n",
        "- Duration Relates to the tenure: F = Freehold, L= Leasehold etc.\n",
        "- Town/City\n",
        "- District\n",
        "- County\n",
        "- PPD Category Type Indicates the type of Price Paid transaction.\n",
        " - A = Standard Price Paid entry, includes single residential property sold for full market value.\n",
        " - B = Additional Price Paid entry including transfers under a power of sale/repossessions, buy-to-lets, and transfers to non-private individuals.\n",
        "- Record Status - monthly file only Indicates additions, changes and deletions to the records."
      ],
      "metadata": {
        "id": "CD71hpZ_aRIK"
      }
    },
    {
      "cell_type": "markdown",
      "source": [
        "# Data Cleansing"
      ],
      "metadata": {
        "id": "Q7DIRJtvmC0r"
      }
    },
    {
      "cell_type": "markdown",
      "source": [
        "Drop irrelevant columns"
      ],
      "metadata": {
        "id": "vPG4EpWSmws7"
      }
    },
    {
      "cell_type": "code",
      "source": [
        "df_raw = df_raw.drop(['Transaction unique identifier', 'Record Status - monthly file only'], axis=1)"
      ],
      "metadata": {
        "id": "AMwpc3JylIu4"
      },
      "execution_count": null,
      "outputs": []
    },
    {
      "cell_type": "markdown",
      "source": [
        "Convert datetime"
      ],
      "metadata": {
        "id": "kl0epW7Coiaq"
      }
    },
    {
      "cell_type": "code",
      "source": [
        "df_raw['datetime'] = pd.to_datetime(df_raw['Date of Transfer'], format='%Y-%m-%d %H:%M')\n",
        "df_raw['year'] = df_raw['datetime'].dt.year\n",
        "df_raw['month'] = df_raw['datetime'].dt.month\n",
        "df_raw['day'] = df_raw['datetime'].dt.day"
      ],
      "metadata": {
        "id": "hul2vTRklSGg"
      },
      "execution_count": null,
      "outputs": []
    },
    {
      "cell_type": "markdown",
      "source": [
        "Onehot encoding for 4 categorical columns to get prepared for counting when grouping"
      ],
      "metadata": {
        "id": "-5WXsD9TxLpH"
      }
    },
    {
      "cell_type": "code",
      "source": [
        "new_cols = []\n",
        "for col in ['Property Type', 'Old/New', 'Duration', 'PPDCategory Type']:\n",
        "    unique_values = df_raw[col].unique()\n",
        "    for val in unique_values:\n",
        "        new_col = col + ' ' + val\n",
        "        new_cols.append(new_col)\n",
        "        df_raw[new_col] = df_raw[col].apply(lambda x: 1 if x == val else 0)"
      ],
      "metadata": {
        "id": "gRqCuMr0rGqr"
      },
      "execution_count": null,
      "outputs": []
    },
    {
      "cell_type": "code",
      "source": [
        "df_raw.columns"
      ],
      "metadata": {
        "colab": {
          "base_uri": "https://localhost:8080/"
        },
        "id": "LzgvEIqJqvCc",
        "outputId": "b6b2171a-4e87-4ac8-8861-de97d40a9ec2"
      },
      "execution_count": null,
      "outputs": [
        {
          "output_type": "execute_result",
          "data": {
            "text/plain": [
              "Index(['Price', 'Date of Transfer', 'Property Type', 'Old/New', 'Duration',\n",
              "       'Town/City', 'District', 'County', 'PPDCategory Type', 'datetime',\n",
              "       'year', 'month', 'day', 'Property Type T', 'Property Type S',\n",
              "       'Property Type D', 'Property Type F', 'Property Type O', 'Old/New N',\n",
              "       'Old/New Y', 'Duration F', 'Duration L', 'Duration U',\n",
              "       'PPDCategory Type A', 'PPDCategory Type B'],\n",
              "      dtype='object')"
            ]
          },
          "metadata": {},
          "execution_count": 7
        }
      ]
    },
    {
      "cell_type": "markdown",
      "source": [
        "\n",
        "### Granularity by county and year month"
      ],
      "metadata": {
        "id": "ROR6vsbi28hY"
      }
    },
    {
      "cell_type": "code",
      "source": [
        "agg_dict = dict(zip(new_cols, ['sum']*len(new_cols)))\n",
        "agg_dict['Price'] = 'mean'\n",
        "df = df_raw.groupby(['County', 'year', 'month'], as_index=False).agg(agg_dict)"
      ],
      "metadata": {
        "id": "qNcSHwvYyGQv"
      },
      "execution_count": null,
      "outputs": []
    },
    {
      "cell_type": "markdown",
      "source": [
        "Save the dataframe and restart runtime to reduce RAM usage"
      ],
      "metadata": {
        "id": "DTd_ZlIh3aDA"
      }
    },
    {
      "cell_type": "code",
      "source": [
        "df.to_csv('/content/drive/MyDrive/Colab Notebooks/dataset/price_by_county_month.csv', index=False)"
      ],
      "metadata": {
        "id": "SK-1tg94x0L0"
      },
      "execution_count": null,
      "outputs": []
    },
    {
      "cell_type": "code",
      "source": [
        "df = pd.read_csv('/content/drive/MyDrive/Colab Notebooks/dataset/price_by_county_month.csv')"
      ],
      "metadata": {
        "id": "l4-fGRDQ3yJY"
      },
      "execution_count": null,
      "outputs": []
    },
    {
      "cell_type": "markdown",
      "source": [
        "Combine year and month"
      ],
      "metadata": {
        "id": "vWYtl4RFt0mP"
      }
    },
    {
      "cell_type": "code",
      "source": [
        "df['yearmonth'] = df['year'] * 100 + df['month']"
      ],
      "metadata": {
        "id": "G1MlZhKxcdCL"
      },
      "execution_count": null,
      "outputs": []
    },
    {
      "cell_type": "markdown",
      "source": [
        "Sort by county and yearmonth in ascending sequence"
      ],
      "metadata": {
        "id": "hVcK3Uout2nm"
      }
    },
    {
      "cell_type": "code",
      "source": [
        "df = df.sort_values(by=['County', 'yearmonth'], ignore_index=True)"
      ],
      "metadata": {
        "id": "HJafDGLBhvNL"
      },
      "execution_count": null,
      "outputs": []
    },
    {
      "cell_type": "markdown",
      "source": [
        "Drop counties that have data less than 80% of the time or don't have data for all 6 months in 2017"
      ],
      "metadata": {
        "id": "8eu5T64Ct_ln"
      }
    },
    {
      "cell_type": "code",
      "source": [
        "min_yearmonth_len = len(df['yearmonth'].unique()) * 0.8\n",
        "for cty in df['County'].unique():\n",
        "    if len(df[df['County']==cty]['yearmonth'].unique()) < min_yearmonth_len and \\\n",
        "        len(df[(df['County']==cty)&(df['year']==2017)]) < 6:\n",
        "        df = df[df['County']!=cty]"
      ],
      "metadata": {
        "id": "3f0OU_a0c8AQ"
      },
      "execution_count": null,
      "outputs": []
    },
    {
      "cell_type": "markdown",
      "source": [
        "## Fill time gaps"
      ],
      "metadata": {
        "id": "5Bvy4dELutLP"
      }
    },
    {
      "cell_type": "markdown",
      "source": [
        "Fill with data in previous month. If there is no data in the first month, fill with 0."
      ],
      "metadata": {
        "id": "fLkia_FIiNRn"
      }
    },
    {
      "cell_type": "code",
      "source": [
        "df1 = pd.DataFrame({'County': df['County'].unique()})\n",
        "df2 = pd.DataFrame({'yearmonth': df['yearmonth'].unique()})\n",
        "df_filled = pd.merge(df1.assign(key=0), df2.assign(key=0), on='key', how='outer').drop('key', axis=1)\n",
        "df_filled = pd.merge(df_filled, df, on=['County', 'yearmonth'], how='left')"
      ],
      "metadata": {
        "id": "CShrVlE6jzYr"
      },
      "execution_count": null,
      "outputs": []
    },
    {
      "cell_type": "code",
      "source": [
        "df_filled['year'] = df_filled['yearmonth'] // 100\n",
        "df_filled['month'] = df_filled['yearmonth'] % 100\n",
        "for col in df_filled.columns:\n",
        "    if col not in ['County', 'yearmonth', 'year', 'month']:\n",
        "        df.loc[df['yearmonth']==199501, col] = 0\n",
        "df_filled.fillna(method='ffill', inplace=True)"
      ],
      "metadata": {
        "id": "KDtOit7LtWRG"
      },
      "execution_count": null,
      "outputs": []
    },
    {
      "cell_type": "code",
      "source": [
        "df_filled.isna().any().any()"
      ],
      "metadata": {
        "colab": {
          "base_uri": "https://localhost:8080/"
        },
        "id": "mCjBmqk-jzVj",
        "outputId": "32775864-f56f-4f78-fd58-5f66b411c238"
      },
      "execution_count": null,
      "outputs": [
        {
          "output_type": "execute_result",
          "data": {
            "text/plain": [
              "False"
            ]
          },
          "metadata": {},
          "execution_count": 16
        }
      ]
    },
    {
      "cell_type": "code",
      "source": [
        "print(f\"Number of yearmonth: {len(df_filled['yearmonth'].unique())}, from {df_filled['yearmonth'][0]} to {list(df_filled['yearmonth'])[-1]}\")\n",
        "print(f\"Number of counties: {len(df_filled['County'].unique())}\")\n",
        "print(f\"Number of rows: {len(df_filled)}\")\n",
        "assert len(df_filled) == len(df_filled['yearmonth'].unique()) * len(df_filled['County'].unique())"
      ],
      "metadata": {
        "id": "-03gROzgdtF4",
        "colab": {
          "base_uri": "https://localhost:8080/"
        },
        "outputId": "6a642a66-499b-4873-fd24-52db27f4c44a"
      },
      "execution_count": null,
      "outputs": [
        {
          "output_type": "stream",
          "name": "stdout",
          "text": [
            "Number of yearmonth: 270, from 199501 to 201706\n",
            "Number of counties: 112\n",
            "Number of rows: 30240\n"
          ]
        }
      ]
    },
    {
      "cell_type": "markdown",
      "source": [
        "# EDA"
      ],
      "metadata": {
        "id": "TrQ9pRpk0ZiZ"
      }
    },
    {
      "cell_type": "markdown",
      "source": [
        "Plot average price of all counties in each month"
      ],
      "metadata": {
        "id": "OqzTpymA15u1"
      }
    },
    {
      "cell_type": "code",
      "source": [
        "yearmonth_datetime = pd.to_datetime(df_filled['yearmonth'].unique(), format='%Y%m')\n",
        "mean_price = df_filled.groupby('yearmonth', as_index=False).agg({'Price': 'mean'})['Price']\n",
        "plt.plot(yearmonth_datetime, mean_price)\n",
        "plt.xlabel('yearmonth')\n",
        "plt.ylabel('Price')\n",
        "plt.show()"
      ],
      "metadata": {
        "colab": {
          "base_uri": "https://localhost:8080/",
          "height": 449
        },
        "id": "N7EslWe1zrqY",
        "outputId": "6425abee-df72-4e5f-b635-a03482406515"
      },
      "execution_count": null,
      "outputs": [
        {
          "output_type": "display_data",
          "data": {
            "text/plain": [
              "<Figure size 640x480 with 1 Axes>"
            ],
            "image/png": "[encoded data removed]"
          },
          "metadata": {}
        }
      ]
    },
    {
      "cell_type": "markdown",
      "source": [
        "# Prediction"
      ],
      "metadata": {
        "id": "keHVaqfm84Md"
      }
    },
    {
      "cell_type": "markdown",
      "source": [
        "## Preprocessing"
      ],
      "metadata": {
        "id": "y4C-DbEoUqZP"
      }
    },
    {
      "cell_type": "code",
      "source": [
        "df_predict = df_filled.copy()"
      ],
      "metadata": {
        "id": "tSVLj-8eAIXW"
      },
      "execution_count": null,
      "outputs": []
    },
    {
      "cell_type": "markdown",
      "source": [
        "### Create 12 lag features"
      ],
      "metadata": {
        "id": "AMJyZFuX_gKH"
      }
    },
    {
      "cell_type": "code",
      "source": [
        "for i in range(1, 12+1):\n",
        "    df_predict[f'price_lag_{i}'] = df_predict.groupby('County', as_index=False)['Price'].shift(i)\n",
        "df_predict = df_predict[df_predict['year']>1995].reset_index(drop=True)"
      ],
      "metadata": {
        "id": "Q8wOJf2c1YbD"
      },
      "execution_count": null,
      "outputs": []
    },
    {
      "cell_type": "markdown",
      "source": [
        "Create target column: 1 month ahead"
      ],
      "metadata": {
        "id": "Phisyk_cCVqC"
      }
    },
    {
      "cell_type": "code",
      "source": [
        "df_predict['price_to_predict'] = df_predict.groupby('County', as_index=False)['Price'].shift(-1)\n",
        "df_predict = df_predict[df_predict['yearmonth']<201706].reset_index(drop=True)"
      ],
      "metadata": {
        "id": "ugTt3RlhCVc2"
      },
      "execution_count": null,
      "outputs": []
    },
    {
      "cell_type": "markdown",
      "source": [
        "### Target Encoding"
      ],
      "metadata": {
        "id": "ZhhXszF4MMls"
      }
    },
    {
      "cell_type": "code",
      "source": [
        "len(df_predict['County'].unique())"
      ],
      "metadata": {
        "colab": {
          "base_uri": "https://localhost:8080/"
        },
        "id": "3nUSrx8pNzY7",
        "outputId": "ab0008fe-5299-4f7f-8cdf-87c523581167"
      },
      "execution_count": null,
      "outputs": [
        {
          "output_type": "execute_result",
          "data": {
            "text/plain": [
              "112"
            ]
          },
          "metadata": {},
          "execution_count": 22
        }
      ]
    },
    {
      "cell_type": "markdown",
      "source": [
        "Wrong method: use a package that is not for time series task"
      ],
      "metadata": {
        "id": "xRLKLJ2xNcCr"
      }
    },
    {
      "cell_type": "code",
      "source": [
        "import category_encoders as ce\n",
        "\n",
        "encoder = ce.TargetEncoder(cols=['County'])\n",
        "df_encoded = encoder.fit_transform(df_predict.drop(['Price'], axis=1), df_predict['Price'])\n",
        "df_predict['county_encoded_tmp'] = df_encoded['County']"
      ],
      "metadata": {
        "id": "_Lg1emF2BI0_"
      },
      "execution_count": null,
      "outputs": []
    },
    {
      "cell_type": "code",
      "source": [
        "df_predict[['yearmonth', 'County', 'Price', 'county_encoded_tmp']].head()"
      ],
      "metadata": {
        "colab": {
          "base_uri": "https://localhost:8080/",
          "height": 206
        },
        "id": "Kw_aNNeCDYF2",
        "outputId": "0670cd31-d5c5-4996-fca9-956fc6968683"
      },
      "execution_count": null,
      "outputs": [
        {
          "output_type": "execute_result",
          "data": {
            "text/plain": [
              "   yearmonth                        County         Price  county_encoded_tmp\n",
              "0     199601  BATH AND NORTH EAST SOMERSET  78591.025641       235681.028135\n",
              "1     199602  BATH AND NORTH EAST SOMERSET  75011.666667       235681.028135\n",
              "2     199603  BATH AND NORTH EAST SOMERSET  88707.081218       235681.028135\n",
              "3     199604  BATH AND NORTH EAST SOMERSET  81818.158491       235681.028135\n",
              "4     199605  BATH AND NORTH EAST SOMERSET  79125.731861       235681.028135"
            ],
            "text/html": [
              "\n",
              "  <div id=\"df-83199121-8543-40c4-a065-a26afb30a01a\">\n",
              "    <div class=\"colab-df-container\">\n",
              "      <div>\n",
              "<style scoped>\n",
              "    .dataframe tbody tr th:only-of-type {\n",
              "        vertical-align: middle;\n",
              "    }\n",
              "\n",
              "    .dataframe tbody tr th {\n",
              "        vertical-align: top;\n",
              "    }\n",
              "\n",
              "    .dataframe thead th {\n",
              "        text-align: right;\n",
              "    }\n",
              "</style>\n",
              "<table border=\"1\" class=\"dataframe\">\n",
              "  <thead>\n",
              "    <tr style=\"text-align: right;\">\n",
              "      <th></th>\n",
              "      <th>yearmonth</th>\n",
              "      <th>County</th>\n",
              "      <th>Price</th>\n",
              "      <th>county_encoded_tmp</th>\n",
              "    </tr>\n",
              "  </thead>\n",
              "  <tbody>\n",
              "    <tr>\n",
              "      <th>0</th>\n",
              "      <td>199601</td>\n",
              "      <td>BATH AND NORTH EAST SOMERSET</td>\n",
              "      <td>78591.025641</td>\n",
              "      <td>235681.028135</td>\n",
              "    </tr>\n",
              "    <tr>\n",
              "      <th>1</th>\n",
              "      <td>199602</td>\n",
              "      <td>BATH AND NORTH EAST SOMERSET</td>\n",
              "      <td>75011.666667</td>\n",
              "      <td>235681.028135</td>\n",
              "    </tr>\n",
              "    <tr>\n",
              "      <th>2</th>\n",
              "      <td>199603</td>\n",
              "      <td>BATH AND NORTH EAST SOMERSET</td>\n",
              "      <td>88707.081218</td>\n",
              "      <td>235681.028135</td>\n",
              "    </tr>\n",
              "    <tr>\n",
              "      <th>3</th>\n",
              "      <td>199604</td>\n",
              "      <td>BATH AND NORTH EAST SOMERSET</td>\n",
              "      <td>81818.158491</td>\n",
              "      <td>235681.028135</td>\n",
              "    </tr>\n",
              "    <tr>\n",
              "      <th>4</th>\n",
              "      <td>199605</td>\n",
              "      <td>BATH AND NORTH EAST SOMERSET</td>\n",
              "      <td>79125.731861</td>\n",
              "      <td>235681.028135</td>\n",
              "    </tr>\n",
              "  </tbody>\n",
              "</table>\n",
              "</div>\n",
              "      <button class=\"colab-df-convert\" onclick=\"convertToInteractive('df-83199121-8543-40c4-a065-a26afb30a01a')\"\n",
              "              title=\"Convert this dataframe to an interactive table.\"\n",
              "              style=\"display:none;\">\n",
              "        \n",
              "  <svg xmlns=\"http://www.w3.org/2000/svg\" height=\"24px\"viewBox=\"0 0 24 24\"\n",
              "       width=\"24px\">\n",
              "    <path d=\"M0 0h24v24H0V0z\" fill=\"none\"/>\n",
              "    <path d=\"M18.56 5.44l.94 2.06.94-2.06 2.06-.94-2.06-.94-.94-2.06-.94 2.06-2.06.94zm-11 1L8.5 8.5l.94-2.06 2.06-.94-2.06-.94L8.5 2.5l-.94 2.06-2.06.94zm10 10l.94 2.06.94-2.06 2.06-.94-2.06-.94-.94-2.06-.94 2.06-2.06.94z\"/><path d=\"M17.41 7.96l-1.37-1.37c-.4-.4-.92-.59-1.43-.59-.52 0-1.04.2-1.43.59L10.3 9.45l-7.72 7.72c-.78.78-.78 2.05 0 2.83L4 21.41c.39.39.9.59 1.41.59.51 0 1.02-.2 1.41-.59l7.78-7.78 2.81-2.81c.8-.78.8-2.07 0-2.86zM5.41 20L4 18.59l7.72-7.72 1.47 1.35L5.41 20z\"/>\n",
              "  </svg>\n",
              "      </button>\n",
              "      \n",
              "  <style>\n",
              "    .colab-df-container {\n",
              "      display:flex;\n",
              "      flex-wrap:wrap;\n",
              "      gap: 12px;\n",
              "    }\n",
              "\n",
              "    .colab-df-convert {\n",
              "      background-color: #E8F0FE;\n",
              "      border: none;\n",
              "      border-radius: 50%;\n",
              "      cursor: pointer;\n",
              "      display: none;\n",
              "      fill: #1967D2;\n",
              "      height: 32px;\n",
              "      padding: 0 0 0 0;\n",
              "      width: 32px;\n",
              "    }\n",
              "\n",
              "    .colab-df-convert:hover {\n",
              "      background-color: #E2EBFA;\n",
              "      box-shadow: 0px 1px 2px rgba(60, 64, 67, 0.3), 0px 1px 3px 1px rgba(60, 64, 67, 0.15);\n",
              "      fill: #174EA6;\n",
              "    }\n",
              "\n",
              "    [theme=dark] .colab-df-convert {\n",
              "      background-color: #3B4455;\n",
              "      fill: #D2E3FC;\n",
              "    }\n",
              "\n",
              "    [theme=dark] .colab-df-convert:hover {\n",
              "      background-color: #434B5C;\n",
              "      box-shadow: 0px 1px 3px 1px rgba(0, 0, 0, 0.15);\n",
              "      filter: drop-shadow(0px 1px 2px rgba(0, 0, 0, 0.3));\n",
              "      fill: #FFFFFF;\n",
              "    }\n",
              "  </style>\n",
              "\n",
              "      <script>\n",
              "        const buttonEl =\n",
              "          document.querySelector('#df-83199121-8543-40c4-a065-a26afb30a01a button.colab-df-convert');\n",
              "        buttonEl.style.display =\n",
              "          google.colab.kernel.accessAllowed ? 'block' : 'none';\n",
              "\n",
              "        async function convertToInteractive(key) {\n",
              "          const element = document.querySelector('#df-83199121-8543-40c4-a065-a26afb30a01a');\n",
              "          const dataTable =\n",
              "            await google.colab.kernel.invokeFunction('convertToInteractive',\n",
              "                                                     [key], {});\n",
              "          if (!dataTable) return;\n",
              "\n",
              "          const docLinkHtml = 'Like what you see? Visit the ' +\n",
              "            '<a target=\"_blank\" href=https://colab.research.google.com/notebooks/data_table.ipynb>data table notebook</a>'\n",
              "            + ' to learn more about interactive tables.';\n",
              "          element.innerHTML = '';\n",
              "          dataTable['output_type'] = 'display_data';\n",
              "          await google.colab.output.renderOutput(dataTable, element);\n",
              "          const docLink = document.createElement('div');\n",
              "          docLink.innerHTML = docLinkHtml;\n",
              "          element.appendChild(docLink);\n",
              "        }\n",
              "      </script>\n",
              "    </div>\n",
              "  </div>\n",
              "  "
            ]
          },
          "metadata": {},
          "execution_count": 24
        }
      ]
    },
    {
      "cell_type": "markdown",
      "source": [
        "Correct method: only use historical data to prevent data leakage"
      ],
      "metadata": {
        "id": "2uV8_dWkNypr"
      }
    },
    {
      "cell_type": "code",
      "source": [
        "for i in df_predict.index:\n",
        "    target_yearmonth = df_predict.loc[i, 'yearmonth']\n",
        "    county = df_predict.loc[i, 'County']\n",
        "    encoding = df_predict.loc[(df_predict['County'] == county) & (df_predict['yearmonth'] <= target_yearmonth), 'Price'].mean()\n",
        "    df_predict.loc[i, 'county_encoded'] = encoding"
      ],
      "metadata": {
        "id": "ehHAxBI3J25Q"
      },
      "execution_count": null,
      "outputs": []
    },
    {
      "cell_type": "code",
      "source": [
        "df_predict[['yearmonth', 'County', 'Price', 'county_encoded']].head()"
      ],
      "metadata": {
        "colab": {
          "base_uri": "https://localhost:8080/",
          "height": 206
        },
        "id": "IC5m9vhlPakN",
        "outputId": "2fb2cd8b-5e1a-4574-ec21-67ac9a2f75e5"
      },
      "execution_count": null,
      "outputs": [
        {
          "output_type": "execute_result",
          "data": {
            "text/plain": [
              "   yearmonth                        County         Price  county_encoded\n",
              "0     199601  BATH AND NORTH EAST SOMERSET  78591.025641    78591.025641\n",
              "1     199602  BATH AND NORTH EAST SOMERSET  75011.666667    76801.346154\n",
              "2     199603  BATH AND NORTH EAST SOMERSET  88707.081218    80769.924509\n",
              "3     199604  BATH AND NORTH EAST SOMERSET  81818.158491    81031.983004\n",
              "4     199605  BATH AND NORTH EAST SOMERSET  79125.731861    80650.732776"
            ],
            "text/html": [
              "\n",
              "  <div id=\"df-77fe085b-3c9d-420b-b41c-63dbb8fe57f6\">\n",
              "    <div class=\"colab-df-container\">\n",
              "      <div>\n",
              "<style scoped>\n",
              "    .dataframe tbody tr th:only-of-type {\n",
              "        vertical-align: middle;\n",
              "    }\n",
              "\n",
              "    .dataframe tbody tr th {\n",
              "        vertical-align: top;\n",
              "    }\n",
              "\n",
              "    .dataframe thead th {\n",
              "        text-align: right;\n",
              "    }\n",
              "</style>\n",
              "<table border=\"1\" class=\"dataframe\">\n",
              "  <thead>\n",
              "    <tr style=\"text-align: right;\">\n",
              "      <th></th>\n",
              "      <th>yearmonth</th>\n",
              "      <th>County</th>\n",
              "      <th>Price</th>\n",
              "      <th>county_encoded</th>\n",
              "    </tr>\n",
              "  </thead>\n",
              "  <tbody>\n",
              "    <tr>\n",
              "      <th>0</th>\n",
              "      <td>199601</td>\n",
              "      <td>BATH AND NORTH EAST SOMERSET</td>\n",
              "      <td>78591.025641</td>\n",
              "      <td>78591.025641</td>\n",
              "    </tr>\n",
              "    <tr>\n",
              "      <th>1</th>\n",
              "      <td>199602</td>\n",
              "      <td>BATH AND NORTH EAST SOMERSET</td>\n",
              "      <td>75011.666667</td>\n",
              "      <td>76801.346154</td>\n",
              "    </tr>\n",
              "    <tr>\n",
              "      <th>2</th>\n",
              "      <td>199603</td>\n",
              "      <td>BATH AND NORTH EAST SOMERSET</td>\n",
              "      <td>88707.081218</td>\n",
              "      <td>80769.924509</td>\n",
              "    </tr>\n",
              "    <tr>\n",
              "      <th>3</th>\n",
              "      <td>199604</td>\n",
              "      <td>BATH AND NORTH EAST SOMERSET</td>\n",
              "      <td>81818.158491</td>\n",
              "      <td>81031.983004</td>\n",
              "    </tr>\n",
              "    <tr>\n",
              "      <th>4</th>\n",
              "      <td>199605</td>\n",
              "      <td>BATH AND NORTH EAST SOMERSET</td>\n",
              "      <td>79125.731861</td>\n",
              "      <td>80650.732776</td>\n",
              "    </tr>\n",
              "  </tbody>\n",
              "</table>\n",
              "</div>\n",
              "      <button class=\"colab-df-convert\" onclick=\"convertToInteractive('df-77fe085b-3c9d-420b-b41c-63dbb8fe57f6')\"\n",
              "              title=\"Convert this dataframe to an interactive table.\"\n",
              "              style=\"display:none;\">\n",
              "        \n",
              "  <svg xmlns=\"http://www.w3.org/2000/svg\" height=\"24px\"viewBox=\"0 0 24 24\"\n",
              "       width=\"24px\">\n",
              "    <path d=\"M0 0h24v24H0V0z\" fill=\"none\"/>\n",
              "    <path d=\"M18.56 5.44l.94 2.06.94-2.06 2.06-.94-2.06-.94-.94-2.06-.94 2.06-2.06.94zm-11 1L8.5 8.5l.94-2.06 2.06-.94-2.06-.94L8.5 2.5l-.94 2.06-2.06.94zm10 10l.94 2.06.94-2.06 2.06-.94-2.06-.94-.94-2.06-.94 2.06-2.06.94z\"/><path d=\"M17.41 7.96l-1.37-1.37c-.4-.4-.92-.59-1.43-.59-.52 0-1.04.2-1.43.59L10.3 9.45l-7.72 7.72c-.78.78-.78 2.05 0 2.83L4 21.41c.39.39.9.59 1.41.59.51 0 1.02-.2 1.41-.59l7.78-7.78 2.81-2.81c.8-.78.8-2.07 0-2.86zM5.41 20L4 18.59l7.72-7.72 1.47 1.35L5.41 20z\"/>\n",
              "  </svg>\n",
              "      </button>\n",
              "      \n",
              "  <style>\n",
              "    .colab-df-container {\n",
              "      display:flex;\n",
              "      flex-wrap:wrap;\n",
              "      gap: 12px;\n",
              "    }\n",
              "\n",
              "    .colab-df-convert {\n",
              "      background-color: #E8F0FE;\n",
              "      border: none;\n",
              "      border-radius: 50%;\n",
              "      cursor: pointer;\n",
              "      display: none;\n",
              "      fill: #1967D2;\n",
              "      height: 32px;\n",
              "      padding: 0 0 0 0;\n",
              "      width: 32px;\n",
              "    }\n",
              "\n",
              "    .colab-df-convert:hover {\n",
              "      background-color: #E2EBFA;\n",
              "      box-shadow: 0px 1px 2px rgba(60, 64, 67, 0.3), 0px 1px 3px 1px rgba(60, 64, 67, 0.15);\n",
              "      fill: #174EA6;\n",
              "    }\n",
              "\n",
              "    [theme=dark] .colab-df-convert {\n",
              "      background-color: #3B4455;\n",
              "      fill: #D2E3FC;\n",
              "    }\n",
              "\n",
              "    [theme=dark] .colab-df-convert:hover {\n",
              "      background-color: #434B5C;\n",
              "      box-shadow: 0px 1px 3px 1px rgba(0, 0, 0, 0.15);\n",
              "      filter: drop-shadow(0px 1px 2px rgba(0, 0, 0, 0.3));\n",
              "      fill: #FFFFFF;\n",
              "    }\n",
              "  </style>\n",
              "\n",
              "      <script>\n",
              "        const buttonEl =\n",
              "          document.querySelector('#df-77fe085b-3c9d-420b-b41c-63dbb8fe57f6 button.colab-df-convert');\n",
              "        buttonEl.style.display =\n",
              "          google.colab.kernel.accessAllowed ? 'block' : 'none';\n",
              "\n",
              "        async function convertToInteractive(key) {\n",
              "          const element = document.querySelector('#df-77fe085b-3c9d-420b-b41c-63dbb8fe57f6');\n",
              "          const dataTable =\n",
              "            await google.colab.kernel.invokeFunction('convertToInteractive',\n",
              "                                                     [key], {});\n",
              "          if (!dataTable) return;\n",
              "\n",
              "          const docLinkHtml = 'Like what you see? Visit the ' +\n",
              "            '<a target=\"_blank\" href=https://colab.research.google.com/notebooks/data_table.ipynb>data table notebook</a>'\n",
              "            + ' to learn more about interactive tables.';\n",
              "          element.innerHTML = '';\n",
              "          dataTable['output_type'] = 'display_data';\n",
              "          await google.colab.output.renderOutput(dataTable, element);\n",
              "          const docLink = document.createElement('div');\n",
              "          docLink.innerHTML = docLinkHtml;\n",
              "          element.appendChild(docLink);\n",
              "        }\n",
              "      </script>\n",
              "    </div>\n",
              "  </div>\n",
              "  "
            ]
          },
          "metadata": {},
          "execution_count": 27
        }
      ]
    },
    {
      "cell_type": "markdown",
      "source": [
        "Create a sine feature for month"
      ],
      "metadata": {
        "id": "efiEJ56YULu3"
      }
    },
    {
      "cell_type": "code",
      "source": [
        "df_predict['month_sin'] = np.sin(2 * np.pi * df['month'] / 12)"
      ],
      "metadata": {
        "id": "Zo0KjmLiT30G"
      },
      "execution_count": null,
      "outputs": []
    },
    {
      "cell_type": "code",
      "source": [
        "df_predict.to_csv('/content/drive/MyDrive/Colab Notebooks/dataset/price_ready_to_predict.csv', index=False)"
      ],
      "metadata": {
        "id": "Plo0s5EvbENJ"
      },
      "execution_count": null,
      "outputs": []
    },
    {
      "cell_type": "code",
      "source": [
        "df_predict = pd.read_csv('/content/drive/MyDrive/Colab Notebooks/dataset/price_ready_to_predict.csv')"
      ],
      "metadata": {
        "id": "x6Gr7dYNbdZI"
      },
      "execution_count": 3,
      "outputs": []
    },
    {
      "cell_type": "markdown",
      "source": [
        "Separate test data"
      ],
      "metadata": {
        "id": "aaLE5usSWeu3"
      }
    },
    {
      "cell_type": "code",
      "source": [
        "df_predict.tail(2)"
      ],
      "metadata": {
        "colab": {
          "base_uri": "https://localhost:8080/",
          "height": 223
        },
        "id": "2Gdn8lh1Wx_H",
        "outputId": "2fe31b19-bb3b-4f3f-cb05-bb2ad32f877c"
      },
      "execution_count": 4,
      "outputs": [
        {
          "output_type": "execute_result",
          "data": {
            "text/plain": [
              "      County  yearmonth  year  month  Property Type T  Property Type S  \\\n",
              "28782   YORK     201704  2017      4             93.0             90.0   \n",
              "28783   YORK     201705  2017      5             61.0             78.0   \n",
              "\n",
              "       Property Type D  Property Type F  Property Type O  Old/New N  ...  \\\n",
              "28782             36.0             83.0              9.0      264.0  ...   \n",
              "28783             44.0             37.0             10.0      220.0  ...   \n",
              "\n",
              "         price_lag_7    price_lag_8    price_lag_9   price_lag_10  \\\n",
              "28782  315845.347403  259352.924581  303494.971061  267358.973529   \n",
              "28783  288444.857678  315845.347403  259352.924581  303494.971061   \n",
              "\n",
              "        price_lag_11   price_lag_12  price_to_predict  county_encoded_tmp  \\\n",
              "28782  254964.720000  246568.050279     270630.500000       170087.994629   \n",
              "28783  267358.973529  254964.720000     276598.640449       170087.994629   \n",
              "\n",
              "       county_encoded  month_sin  \n",
              "28782   169695.250468  -0.866025  \n",
              "28783   170087.994630  -1.000000  \n",
              "\n",
              "[2 rows x 33 columns]"
            ],
            "text/html": [
              "\n",
              "  <div id=\"df-cac63df5-179e-4cae-bafc-4da2056a0a72\">\n",
              "    <div class=\"colab-df-container\">\n",
              "      <div>\n",
              "<style scoped>\n",
              "    .dataframe tbody tr th:only-of-type {\n",
              "        vertical-align: middle;\n",
              "    }\n",
              "\n",
              "    .dataframe tbody tr th {\n",
              "        vertical-align: top;\n",
              "    }\n",
              "\n",
              "    .dataframe thead th {\n",
              "        text-align: right;\n",
              "    }\n",
              "</style>\n",
              "<table border=\"1\" class=\"dataframe\">\n",
              "  <thead>\n",
              "    <tr style=\"text-align: right;\">\n",
              "      <th></th>\n",
              "      <th>County</th>\n",
              "      <th>yearmonth</th>\n",
              "      <th>year</th>\n",
              "      <th>month</th>\n",
              "      <th>Property Type T</th>\n",
              "      <th>Property Type S</th>\n",
              "      <th>Property Type D</th>\n",
              "      <th>Property Type F</th>\n",
              "      <th>Property Type O</th>\n",
              "      <th>Old/New N</th>\n",
              "      <th>...</th>\n",
              "      <th>price_lag_7</th>\n",
              "      <th>price_lag_8</th>\n",
              "      <th>price_lag_9</th>\n",
              "      <th>price_lag_10</th>\n",
              "      <th>price_lag_11</th>\n",
              "      <th>price_lag_12</th>\n",
              "      <th>price_to_predict</th>\n",
              "      <th>county_encoded_tmp</th>\n",
              "      <th>county_encoded</th>\n",
              "      <th>month_sin</th>\n",
              "    </tr>\n",
              "  </thead>\n",
              "  <tbody>\n",
              "    <tr>\n",
              "      <th>28782</th>\n",
              "      <td>YORK</td>\n",
              "      <td>201704</td>\n",
              "      <td>2017</td>\n",
              "      <td>4</td>\n",
              "      <td>93.0</td>\n",
              "      <td>90.0</td>\n",
              "      <td>36.0</td>\n",
              "      <td>83.0</td>\n",
              "      <td>9.0</td>\n",
              "      <td>264.0</td>\n",
              "      <td>...</td>\n",
              "      <td>315845.347403</td>\n",
              "      <td>259352.924581</td>\n",
              "      <td>303494.971061</td>\n",
              "      <td>267358.973529</td>\n",
              "      <td>254964.720000</td>\n",
              "      <td>246568.050279</td>\n",
              "      <td>270630.500000</td>\n",
              "      <td>170087.994629</td>\n",
              "      <td>169695.250468</td>\n",
              "      <td>-0.866025</td>\n",
              "    </tr>\n",
              "    <tr>\n",
              "      <th>28783</th>\n",
              "      <td>YORK</td>\n",
              "      <td>201705</td>\n",
              "      <td>2017</td>\n",
              "      <td>5</td>\n",
              "      <td>61.0</td>\n",
              "      <td>78.0</td>\n",
              "      <td>44.0</td>\n",
              "      <td>37.0</td>\n",
              "      <td>10.0</td>\n",
              "      <td>220.0</td>\n",
              "      <td>...</td>\n",
              "      <td>288444.857678</td>\n",
              "      <td>315845.347403</td>\n",
              "      <td>259352.924581</td>\n",
              "      <td>303494.971061</td>\n",
              "      <td>267358.973529</td>\n",
              "      <td>254964.720000</td>\n",
              "      <td>276598.640449</td>\n",
              "      <td>170087.994629</td>\n",
              "      <td>170087.994630</td>\n",
              "      <td>-1.000000</td>\n",
              "    </tr>\n",
              "  </tbody>\n",
              "</table>\n",
              "<p>2 rows × 33 columns</p>\n",
              "</div>\n",
              "      <button class=\"colab-df-convert\" onclick=\"convertToInteractive('df-cac63df5-179e-4cae-bafc-4da2056a0a72')\"\n",
              "              title=\"Convert this dataframe to an interactive table.\"\n",
              "              style=\"display:none;\">\n",
              "        \n",
              "  <svg xmlns=\"http://www.w3.org/2000/svg\" height=\"24px\"viewBox=\"0 0 24 24\"\n",
              "       width=\"24px\">\n",
              "    <path d=\"M0 0h24v24H0V0z\" fill=\"none\"/>\n",
              "    <path d=\"M18.56 5.44l.94 2.06.94-2.06 2.06-.94-2.06-.94-.94-2.06-.94 2.06-2.06.94zm-11 1L8.5 8.5l.94-2.06 2.06-.94-2.06-.94L8.5 2.5l-.94 2.06-2.06.94zm10 10l.94 2.06.94-2.06 2.06-.94-2.06-.94-.94-2.06-.94 2.06-2.06.94z\"/><path d=\"M17.41 7.96l-1.37-1.37c-.4-.4-.92-.59-1.43-.59-.52 0-1.04.2-1.43.59L10.3 9.45l-7.72 7.72c-.78.78-.78 2.05 0 2.83L4 21.41c.39.39.9.59 1.41.59.51 0 1.02-.2 1.41-.59l7.78-7.78 2.81-2.81c.8-.78.8-2.07 0-2.86zM5.41 20L4 18.59l7.72-7.72 1.47 1.35L5.41 20z\"/>\n",
              "  </svg>\n",
              "      </button>\n",
              "      \n",
              "  <style>\n",
              "    .colab-df-container {\n",
              "      display:flex;\n",
              "      flex-wrap:wrap;\n",
              "      gap: 12px;\n",
              "    }\n",
              "\n",
              "    .colab-df-convert {\n",
              "      background-color: #E8F0FE;\n",
              "      border: none;\n",
              "      border-radius: 50%;\n",
              "      cursor: pointer;\n",
              "      display: none;\n",
              "      fill: #1967D2;\n",
              "      height: 32px;\n",
              "      padding: 0 0 0 0;\n",
              "      width: 32px;\n",
              "    }\n",
              "\n",
              "    .colab-df-convert:hover {\n",
              "      background-color: #E2EBFA;\n",
              "      box-shadow: 0px 1px 2px rgba(60, 64, 67, 0.3), 0px 1px 3px 1px rgba(60, 64, 67, 0.15);\n",
              "      fill: #174EA6;\n",
              "    }\n",
              "\n",
              "    [theme=dark] .colab-df-convert {\n",
              "      background-color: #3B4455;\n",
              "      fill: #D2E3FC;\n",
              "    }\n",
              "\n",
              "    [theme=dark] .colab-df-convert:hover {\n",
              "      background-color: #434B5C;\n",
              "      box-shadow: 0px 1px 3px 1px rgba(0, 0, 0, 0.15);\n",
              "      filter: drop-shadow(0px 1px 2px rgba(0, 0, 0, 0.3));\n",
              "      fill: #FFFFFF;\n",
              "    }\n",
              "  </style>\n",
              "\n",
              "      <script>\n",
              "        const buttonEl =\n",
              "          document.querySelector('#df-cac63df5-179e-4cae-bafc-4da2056a0a72 button.colab-df-convert');\n",
              "        buttonEl.style.display =\n",
              "          google.colab.kernel.accessAllowed ? 'block' : 'none';\n",
              "\n",
              "        async function convertToInteractive(key) {\n",
              "          const element = document.querySelector('#df-cac63df5-179e-4cae-bafc-4da2056a0a72');\n",
              "          const dataTable =\n",
              "            await google.colab.kernel.invokeFunction('convertToInteractive',\n",
              "                                                     [key], {});\n",
              "          if (!dataTable) return;\n",
              "\n",
              "          const docLinkHtml = 'Like what you see? Visit the ' +\n",
              "            '<a target=\"_blank\" href=https://colab.research.google.com/notebooks/data_table.ipynb>data table notebook</a>'\n",
              "            + ' to learn more about interactive tables.';\n",
              "          element.innerHTML = '';\n",
              "          dataTable['output_type'] = 'display_data';\n",
              "          await google.colab.output.renderOutput(dataTable, element);\n",
              "          const docLink = document.createElement('div');\n",
              "          docLink.innerHTML = docLinkHtml;\n",
              "          element.appendChild(docLink);\n",
              "        }\n",
              "      </script>\n",
              "    </div>\n",
              "  </div>\n",
              "  "
            ]
          },
          "metadata": {},
          "execution_count": 4
        }
      ]
    },
    {
      "cell_type": "code",
      "source": [
        "train_valid = df_predict[df_predict['yearmonth']<201701]\n",
        "test = df_predict[df_predict['yearmonth']>=201701]"
      ],
      "metadata": {
        "id": "85OdefWoWeTn"
      },
      "execution_count": 5,
      "outputs": []
    },
    {
      "cell_type": "markdown",
      "source": [
        "Separate X and y"
      ],
      "metadata": {
        "id": "YHTlsN_hWR93"
      }
    },
    {
      "cell_type": "code",
      "source": [
        "X = train_valid.drop(['County', 'yearmonth', 'month', 'price_to_predict', 'county_encoded_tmp'], axis=1)\n",
        "y = train_valid['price_to_predict']\n",
        "\n",
        "X_test = test.drop(['County', 'yearmonth', 'month', 'price_to_predict', 'county_encoded_tmp'], axis=1)\n",
        "y_test = test['price_to_predict']"
      ],
      "metadata": {
        "id": "X2uXjazhTmzI"
      },
      "execution_count": 6,
      "outputs": []
    },
    {
      "cell_type": "markdown",
      "source": [
        "## Baseline xgboost model"
      ],
      "metadata": {
        "id": "8nz7oenvTPcW"
      }
    },
    {
      "cell_type": "code",
      "source": [
        "model = xgb.XGBRegressor()\n",
        "model.fit(X, y)\n",
        "y_pred = model.predict(X_test)"
      ],
      "metadata": {
        "id": "jsydPaRXTE6s"
      },
      "execution_count": 8,
      "outputs": []
    },
    {
      "cell_type": "markdown",
      "source": [
        "RMSE: the typical distance between the predicted value made by the regression model and the actual value.\n",
        "\n",
        "R-squared: how well the predictor variables can explain the variation in the response variable."
      ],
      "metadata": {
        "id": "lNxYfJiNZv5a"
      }
    },
    {
      "cell_type": "code",
      "source": [
        "rmse_baseline = mean_squared_error(y_test, y_pred, squared=False)\n",
        "r2_baseline = r2_score(y_test, y_pred)\n",
        "print('RMSE:', rmse_baseline)\n",
        "print('R-squared:', r2_baseline)"
      ],
      "metadata": {
        "colab": {
          "base_uri": "https://localhost:8080/"
        },
        "id": "IeLU7fGRYVZS",
        "outputId": "571473dd-418d-444d-c31e-2c5ce74c5446"
      },
      "execution_count": null,
      "outputs": [
        {
          "output_type": "stream",
          "name": "stdout",
          "text": [
            "RMSE: 64545.75989218404\n",
            "R-squared: 0.7304489827805402\n"
          ]
        }
      ]
    },
    {
      "cell_type": "markdown",
      "source": [
        "## Time series cross validation and grid search"
      ],
      "metadata": {
        "id": "JPTl_Enoa0VR"
      }
    },
    {
      "cell_type": "markdown",
      "source": [
        "- max_depth: maximum depth of each tree in the ensemble\n",
        "- gamma: minimum reduction in the loss function required to split a node in the tree. A higher gamma value makes the algorithm more conservative\n",
        "- subsample: fraction of training samples that are used to train each tree in the ensemble\n",
        "- colsample_bynode: fraction of features that are used to train each individual node in a tree"
      ],
      "metadata": {
        "id": "K74nF55AjqLm"
      }
    },
    {
      "cell_type": "code",
      "source": [
        "params = {\n",
        "    'max_depth': [3, 4],\n",
        "    'gamma': [0.05, 0.1],\n",
        "    'subsample': [0.7, 0.8],\n",
        "    'colsample_bynode': [0.8, 1]\n",
        "}"
      ],
      "metadata": {
        "id": "4o7ALlciY6aY"
      },
      "execution_count": null,
      "outputs": []
    },
    {
      "cell_type": "code",
      "source": [
        "tscv = TimeSeriesSplit(n_splits=5)\n",
        "model = xgb.XGBRegressor()\n",
        "grid_search = GridSearchCV(model, param_grid=params, cv=tscv, scoring='neg_root_mean_squared_error')\n",
        "grid_search.fit(X, y)"
      ],
      "metadata": {
        "colab": {
          "base_uri": "https://localhost:8080/",
          "height": 117
        },
        "id": "7rKIgm77_eFi",
        "outputId": "fc970384-8cf0-4af9-d749-30ed57f61a6a"
      },
      "execution_count": null,
      "outputs": [
        {
          "output_type": "execute_result",
          "data": {
            "text/plain": [
              "GridSearchCV(cv=TimeSeriesSplit(gap=0, max_train_size=None, n_splits=5, test_size=None),\n",
              "             estimator=XGBRegressor(base_score=None, booster=None,\n",
              "                                    callbacks=None, colsample_bylevel=None,\n",
              "                                    colsample_bynode=None,\n",
              "                                    colsample_bytree=None,\n",
              "                                    early_stopping_rounds=None,\n",
              "                                    enable_categorical=False, eval_metric=None,\n",
              "                                    feature_types=None, gamma=None, gpu_id=None,\n",
              "                                    grow_policy=None, imp...\n",
              "                                    max_cat_to_onehot=None, max_delta_step=None,\n",
              "                                    max_depth=None, max_leaves=None,\n",
              "                                    min_child_weight=None, missing=nan,\n",
              "                                    monotone_constraints=None, n_estimators=100,\n",
              "                                    n_jobs=None, num_parallel_tree=None,\n",
              "                                    predictor=None, random_state=None, ...),\n",
              "             param_grid={'colsample_bynode': [0.8, 1], 'gamma': [0.05, 0.1],\n",
              "                         'max_depth': [3, 4], 'subsample': [0.7, 0.8]},\n",
              "             scoring='neg_root_mean_squared_error')"
            ],
            "text/html": [
              "<style>#sk-container-id-1 {color: black;background-color: white;}#sk-container-id-1 pre{padding: 0;}#sk-container-id-1 div.sk-toggleable {background-color: white;}#sk-container-id-1 label.sk-toggleable__label {cursor: pointer;display: block;width: 100%;margin-bottom: 0;padding: 0.3em;box-sizing: border-box;text-align: center;}#sk-container-id-1 label.sk-toggleable__label-arrow:before {content: \"▸\";float: left;margin-right: 0.25em;color: #696969;}#sk-container-id-1 label.sk-toggleable__label-arrow:hover:before {color: black;}#sk-container-id-1 div.sk-estimator:hover label.sk-toggleable__label-arrow:before {color: black;}#sk-container-id-1 div.sk-toggleable__content {max-height: 0;max-width: 0;overflow: hidden;text-align: left;background-color: #f0f8ff;}#sk-container-id-1 div.sk-toggleable__content pre {margin: 0.2em;color: black;border-radius: 0.25em;background-color: #f0f8ff;}#sk-container-id-1 input.sk-toggleable__control:checked~div.sk-toggleable__content {max-height: 200px;max-width: 100%;overflow: auto;}#sk-container-id-1 input.sk-toggleable__control:checked~label.sk-toggleable__label-arrow:before {content: \"▾\";}#sk-container-id-1 div.sk-estimator input.sk-toggleable__control:checked~label.sk-toggleable__label {background-color: #d4ebff;}#sk-container-id-1 div.sk-label input.sk-toggleable__control:checked~label.sk-toggleable__label {background-color: #d4ebff;}#sk-container-id-1 input.sk-hidden--visually {border: 0;clip: rect(1px 1px 1px 1px);clip: rect(1px, 1px, 1px, 1px);height: 1px;margin: -1px;overflow: hidden;padding: 0;position: absolute;width: 1px;}#sk-container-id-1 div.sk-estimator {font-family: monospace;background-color: #f0f8ff;border: 1px dotted black;border-radius: 0.25em;box-sizing: border-box;margin-bottom: 0.5em;}#sk-container-id-1 div.sk-estimator:hover {background-color: #d4ebff;}#sk-container-id-1 div.sk-parallel-item::after {content: \"\";width: 100%;border-bottom: 1px solid gray;flex-grow: 1;}#sk-container-id-1 div.sk-label:hover label.sk-toggleable__label {background-color: #d4ebff;}#sk-container-id-1 div.sk-serial::before {content: \"\";position: absolute;border-left: 1px solid gray;box-sizing: border-box;top: 0;bottom: 0;left: 50%;z-index: 0;}#sk-container-id-1 div.sk-serial {display: flex;flex-direction: column;align-items: center;background-color: white;padding-right: 0.2em;padding-left: 0.2em;position: relative;}#sk-container-id-1 div.sk-item {position: relative;z-index: 1;}#sk-container-id-1 div.sk-parallel {display: flex;align-items: stretch;justify-content: center;background-color: white;position: relative;}#sk-container-id-1 div.sk-item::before, #sk-container-id-1 div.sk-parallel-item::before {content: \"\";position: absolute;border-left: 1px solid gray;box-sizing: border-box;top: 0;bottom: 0;left: 50%;z-index: -1;}#sk-container-id-1 div.sk-parallel-item {display: flex;flex-direction: column;z-index: 1;position: relative;background-color: white;}#sk-container-id-1 div.sk-parallel-item:first-child::after {align-self: flex-end;width: 50%;}#sk-container-id-1 div.sk-parallel-item:last-child::after {align-self: flex-start;width: 50%;}#sk-container-id-1 div.sk-parallel-item:only-child::after {width: 0;}#sk-container-id-1 div.sk-dashed-wrapped {border: 1px dashed gray;margin: 0 0.4em 0.5em 0.4em;box-sizing: border-box;padding-bottom: 0.4em;background-color: white;}#sk-container-id-1 div.sk-label label {font-family: monospace;font-weight: bold;display: inline-block;line-height: 1.2em;}#sk-container-id-1 div.sk-label-container {text-align: center;}#sk-container-id-1 div.sk-container {/* jupyter's `normalize.less` sets `[hidden] { display: none; }` but bootstrap.min.css set `[hidden] { display: none !important; }` so we also need the `!important` here to be able to override the default hidden behavior on the sphinx rendered scikit-learn.org. See: https://github.com/scikit-learn/scikit-learn/issues/21755 */display: inline-block !important;position: relative;}#sk-container-id-1 div.sk-text-repr-fallback {display: none;}</style><div id=\"sk-container-id-1\" class=\"sk-top-container\"><div class=\"sk-text-repr-fallback\"><pre>GridSearchCV(cv=TimeSeriesSplit(gap=0, max_train_size=None, n_splits=5, test_size=None),\n",
              "             estimator=XGBRegressor(base_score=None, booster=None,\n",
              "                                    callbacks=None, colsample_bylevel=None,\n",
              "                                    colsample_bynode=None,\n",
              "                                    colsample_bytree=None,\n",
              "                                    early_stopping_rounds=None,\n",
              "                                    enable_categorical=False, eval_metric=None,\n",
              "                                    feature_types=None, gamma=None, gpu_id=None,\n",
              "                                    grow_policy=None, imp...\n",
              "                                    max_cat_to_onehot=None, max_delta_step=None,\n",
              "                                    max_depth=None, max_leaves=None,\n",
              "                                    min_child_weight=None, missing=nan,\n",
              "                                    monotone_constraints=None, n_estimators=100,\n",
              "                                    n_jobs=None, num_parallel_tree=None,\n",
              "                                    predictor=None, random_state=None, ...),\n",
              "             param_grid={&#x27;colsample_bynode&#x27;: [0.8, 1], &#x27;gamma&#x27;: [0.05, 0.1],\n",
              "                         &#x27;max_depth&#x27;: [3, 4], &#x27;subsample&#x27;: [0.7, 0.8]},\n",
              "             scoring=&#x27;neg_root_mean_squared_error&#x27;)</pre><b>In a Jupyter environment, please rerun this cell to show the HTML representation or trust the notebook. <br />On GitHub, the HTML representation is unable to render, please try loading this page with nbviewer.org.</b></div><div class=\"sk-container\" hidden><div class=\"sk-item sk-dashed-wrapped\"><div class=\"sk-label-container\"><div class=\"sk-label sk-toggleable\"><input class=\"sk-toggleable__control sk-hidden--visually\" id=\"sk-estimator-id-1\" type=\"checkbox\" ><label for=\"sk-estimator-id-1\" class=\"sk-toggleable__label sk-toggleable__label-arrow\">GridSearchCV</label><div class=\"sk-toggleable__content\"><pre>GridSearchCV(cv=TimeSeriesSplit(gap=0, max_train_size=None, n_splits=5, test_size=None),\n",
              "             estimator=XGBRegressor(base_score=None, booster=None,\n",
              "                                    callbacks=None, colsample_bylevel=None,\n",
              "                                    colsample_bynode=None,\n",
              "                                    colsample_bytree=None,\n",
              "                                    early_stopping_rounds=None,\n",
              "                                    enable_categorical=False, eval_metric=None,\n",
              "                                    feature_types=None, gamma=None, gpu_id=None,\n",
              "                                    grow_policy=None, imp...\n",
              "                                    max_cat_to_onehot=None, max_delta_step=None,\n",
              "                                    max_depth=None, max_leaves=None,\n",
              "                                    min_child_weight=None, missing=nan,\n",
              "                                    monotone_constraints=None, n_estimators=100,\n",
              "                                    n_jobs=None, num_parallel_tree=None,\n",
              "                                    predictor=None, random_state=None, ...),\n",
              "             param_grid={&#x27;colsample_bynode&#x27;: [0.8, 1], &#x27;gamma&#x27;: [0.05, 0.1],\n",
              "                         &#x27;max_depth&#x27;: [3, 4], &#x27;subsample&#x27;: [0.7, 0.8]},\n",
              "             scoring=&#x27;neg_root_mean_squared_error&#x27;)</pre></div></div></div><div class=\"sk-parallel\"><div class=\"sk-parallel-item\"><div class=\"sk-item\"><div class=\"sk-label-container\"><div class=\"sk-label sk-toggleable\"><input class=\"sk-toggleable__control sk-hidden--visually\" id=\"sk-estimator-id-2\" type=\"checkbox\" ><label for=\"sk-estimator-id-2\" class=\"sk-toggleable__label sk-toggleable__label-arrow\">estimator: XGBRegressor</label><div class=\"sk-toggleable__content\"><pre>XGBRegressor(base_score=None, booster=None, callbacks=None,\n",
              "             colsample_bylevel=None, colsample_bynode=None,\n",
              "             colsample_bytree=None, early_stopping_rounds=None,\n",
              "             enable_categorical=False, eval_metric=None, feature_types=None,\n",
              "             gamma=None, gpu_id=None, grow_policy=None, importance_type=None,\n",
              "             interaction_constraints=None, learning_rate=None, max_bin=None,\n",
              "             max_cat_threshold=None, max_cat_to_onehot=None,\n",
              "             max_delta_step=None, max_depth=None, max_leaves=None,\n",
              "             min_child_weight=None, missing=nan, monotone_constraints=None,\n",
              "             n_estimators=100, n_jobs=None, num_parallel_tree=None,\n",
              "             predictor=None, random_state=None, ...)</pre></div></div></div><div class=\"sk-serial\"><div class=\"sk-item\"><div class=\"sk-estimator sk-toggleable\"><input class=\"sk-toggleable__control sk-hidden--visually\" id=\"sk-estimator-id-3\" type=\"checkbox\" ><label for=\"sk-estimator-id-3\" class=\"sk-toggleable__label sk-toggleable__label-arrow\">XGBRegressor</label><div class=\"sk-toggleable__content\"><pre>XGBRegressor(base_score=None, booster=None, callbacks=None,\n",
              "             colsample_bylevel=None, colsample_bynode=None,\n",
              "             colsample_bytree=None, early_stopping_rounds=None,\n",
              "             enable_categorical=False, eval_metric=None, feature_types=None,\n",
              "             gamma=None, gpu_id=None, grow_policy=None, importance_type=None,\n",
              "             interaction_constraints=None, learning_rate=None, max_bin=None,\n",
              "             max_cat_threshold=None, max_cat_to_onehot=None,\n",
              "             max_delta_step=None, max_depth=None, max_leaves=None,\n",
              "             min_child_weight=None, missing=nan, monotone_constraints=None,\n",
              "             n_estimators=100, n_jobs=None, num_parallel_tree=None,\n",
              "             predictor=None, random_state=None, ...)</pre></div></div></div></div></div></div></div></div></div></div>"
            ]
          },
          "metadata": {},
          "execution_count": 38
        }
      ]
    },
    {
      "cell_type": "code",
      "source": [
        "cv_results = grid_search.cv_results_\n",
        "for score, params in zip(cv_results['mean_test_score'], cv_results['params']):\n",
        "    print(f\"RMSE: {-score:.4f}    |    {params}\")\n",
        "\n",
        "print(f\"Best RMSE: {-grid_search.best_score_:.4f}\")\n",
        "print(f\"Best parameters: {grid_search.best_params_}\")"
      ],
      "metadata": {
        "colab": {
          "base_uri": "https://localhost:8080/"
        },
        "id": "UszPzpCqJR8O",
        "outputId": "bd19aa7f-eee7-4603-b733-01bfc6cf5a73"
      },
      "execution_count": null,
      "outputs": [
        {
          "output_type": "stream",
          "name": "stdout",
          "text": [
            "RMSE: 24728.2237    |    {'colsample_bynode': 0.8, 'gamma': 0.05, 'max_depth': 3, 'subsample': 0.7}\n",
            "RMSE: 24464.3444    |    {'colsample_bynode': 0.8, 'gamma': 0.05, 'max_depth': 3, 'subsample': 0.8}\n",
            "RMSE: 24904.4053    |    {'colsample_bynode': 0.8, 'gamma': 0.05, 'max_depth': 4, 'subsample': 0.7}\n",
            "RMSE: 25035.5738    |    {'colsample_bynode': 0.8, 'gamma': 0.05, 'max_depth': 4, 'subsample': 0.8}\n",
            "RMSE: 24728.2237    |    {'colsample_bynode': 0.8, 'gamma': 0.1, 'max_depth': 3, 'subsample': 0.7}\n",
            "RMSE: 24464.3444    |    {'colsample_bynode': 0.8, 'gamma': 0.1, 'max_depth': 3, 'subsample': 0.8}\n",
            "RMSE: 24904.4053    |    {'colsample_bynode': 0.8, 'gamma': 0.1, 'max_depth': 4, 'subsample': 0.7}\n",
            "RMSE: 25035.5738    |    {'colsample_bynode': 0.8, 'gamma': 0.1, 'max_depth': 4, 'subsample': 0.8}\n",
            "RMSE: 24450.7568    |    {'colsample_bynode': 1, 'gamma': 0.05, 'max_depth': 3, 'subsample': 0.7}\n",
            "RMSE: 24157.3607    |    {'colsample_bynode': 1, 'gamma': 0.05, 'max_depth': 3, 'subsample': 0.8}\n",
            "RMSE: 24563.5865    |    {'colsample_bynode': 1, 'gamma': 0.05, 'max_depth': 4, 'subsample': 0.7}\n",
            "RMSE: 24336.0374    |    {'colsample_bynode': 1, 'gamma': 0.05, 'max_depth': 4, 'subsample': 0.8}\n",
            "RMSE: 24450.7568    |    {'colsample_bynode': 1, 'gamma': 0.1, 'max_depth': 3, 'subsample': 0.7}\n",
            "RMSE: 24157.3607    |    {'colsample_bynode': 1, 'gamma': 0.1, 'max_depth': 3, 'subsample': 0.8}\n",
            "RMSE: 24563.5865    |    {'colsample_bynode': 1, 'gamma': 0.1, 'max_depth': 4, 'subsample': 0.7}\n",
            "RMSE: 24336.0374    |    {'colsample_bynode': 1, 'gamma': 0.1, 'max_depth': 4, 'subsample': 0.8}\n",
            "Best RMSE: 24157.3607\n",
            "Best parameters: {'colsample_bynode': 1, 'gamma': 0.05, 'max_depth': 3, 'subsample': 0.8}\n"
          ]
        }
      ]
    },
    {
      "cell_type": "code",
      "source": [
        "model = xgb.XGBRegressor(**grid_search.best_params_)\n",
        "model.fit(X, y)\n",
        "y_pred = model.predict(X_test)"
      ],
      "metadata": {
        "id": "0AfkblUNIeFQ"
      },
      "execution_count": null,
      "outputs": []
    },
    {
      "cell_type": "code",
      "source": [
        "rmse_cv = mean_squared_error(y_test, y_pred, squared=False)\n",
        "r2_cv = r2_score(y_test, y_pred)\n",
        "print('RMSE:', rmse_cv)\n",
        "print('R-squared:', r2_cv)"
      ],
      "metadata": {
        "colab": {
          "base_uri": "https://localhost:8080/"
        },
        "id": "hLFWm_L2A-Zp",
        "outputId": "94886bb2-fd51-41bf-e057-bdcc1910d6be"
      },
      "execution_count": null,
      "outputs": [
        {
          "output_type": "stream",
          "name": "stdout",
          "text": [
            "RMSE: 62461.06951101869\n",
            "R-squared: 0.7475796459512976\n"
          ]
        }
      ]
    },
    {
      "cell_type": "code",
      "source": [
        "df_feat_imp = pd.DataFrame({'feature': X.columns, 'importance': model.feature_importances_}).sort_values(by=['importance'], ascending=False)\n",
        "df_feat_imp.head(10)"
      ],
      "metadata": {
        "colab": {
          "base_uri": "https://localhost:8080/",
          "height": 363
        },
        "id": "h07KnEm-CAm4",
        "outputId": "d4b23747-4e79-46fa-de98-ac00eddfa26a"
      },
      "execution_count": null,
      "outputs": [
        {
          "output_type": "execute_result",
          "data": {
            "text/plain": [
              "           feature  importance\n",
              "13           Price    0.289697\n",
              "16     price_lag_3    0.158573\n",
              "15     price_lag_2    0.108065\n",
              "14     price_lag_1    0.094736\n",
              "22     price_lag_9    0.083026\n",
              "26  county_encoded    0.082162\n",
              "17     price_lag_4    0.066358\n",
              "18     price_lag_5    0.021324\n",
              "24    price_lag_11    0.016325\n",
              "21     price_lag_8    0.012576"
            ],
            "text/html": [
              "\n",
              "  <div id=\"df-f45c8ea9-8db3-4fa7-9b10-8c3319c744c7\">\n",
              "    <div class=\"colab-df-container\">\n",
              "      <div>\n",
              "<style scoped>\n",
              "    .dataframe tbody tr th:only-of-type {\n",
              "        vertical-align: middle;\n",
              "    }\n",
              "\n",
              "    .dataframe tbody tr th {\n",
              "        vertical-align: top;\n",
              "    }\n",
              "\n",
              "    .dataframe thead th {\n",
              "        text-align: right;\n",
              "    }\n",
              "</style>\n",
              "<table border=\"1\" class=\"dataframe\">\n",
              "  <thead>\n",
              "    <tr style=\"text-align: right;\">\n",
              "      <th></th>\n",
              "      <th>feature</th>\n",
              "      <th>importance</th>\n",
              "    </tr>\n",
              "  </thead>\n",
              "  <tbody>\n",
              "    <tr>\n",
              "      <th>13</th>\n",
              "      <td>Price</td>\n",
              "      <td>0.289697</td>\n",
              "    </tr>\n",
              "    <tr>\n",
              "      <th>16</th>\n",
              "      <td>price_lag_3</td>\n",
              "      <td>0.158573</td>\n",
              "    </tr>\n",
              "    <tr>\n",
              "      <th>15</th>\n",
              "      <td>price_lag_2</td>\n",
              "      <td>0.108065</td>\n",
              "    </tr>\n",
              "    <tr>\n",
              "      <th>14</th>\n",
              "      <td>price_lag_1</td>\n",
              "      <td>0.094736</td>\n",
              "    </tr>\n",
              "    <tr>\n",
              "      <th>22</th>\n",
              "      <td>price_lag_9</td>\n",
              "      <td>0.083026</td>\n",
              "    </tr>\n",
              "    <tr>\n",
              "      <th>26</th>\n",
              "      <td>county_encoded</td>\n",
              "      <td>0.082162</td>\n",
              "    </tr>\n",
              "    <tr>\n",
              "      <th>17</th>\n",
              "      <td>price_lag_4</td>\n",
              "      <td>0.066358</td>\n",
              "    </tr>\n",
              "    <tr>\n",
              "      <th>18</th>\n",
              "      <td>price_lag_5</td>\n",
              "      <td>0.021324</td>\n",
              "    </tr>\n",
              "    <tr>\n",
              "      <th>24</th>\n",
              "      <td>price_lag_11</td>\n",
              "      <td>0.016325</td>\n",
              "    </tr>\n",
              "    <tr>\n",
              "      <th>21</th>\n",
              "      <td>price_lag_8</td>\n",
              "      <td>0.012576</td>\n",
              "    </tr>\n",
              "  </tbody>\n",
              "</table>\n",
              "</div>\n",
              "      <button class=\"colab-df-convert\" onclick=\"convertToInteractive('df-f45c8ea9-8db3-4fa7-9b10-8c3319c744c7')\"\n",
              "              title=\"Convert this dataframe to an interactive table.\"\n",
              "              style=\"display:none;\">\n",
              "        \n",
              "  <svg xmlns=\"http://www.w3.org/2000/svg\" height=\"24px\"viewBox=\"0 0 24 24\"\n",
              "       width=\"24px\">\n",
              "    <path d=\"M0 0h24v24H0V0z\" fill=\"none\"/>\n",
              "    <path d=\"M18.56 5.44l.94 2.06.94-2.06 2.06-.94-2.06-.94-.94-2.06-.94 2.06-2.06.94zm-11 1L8.5 8.5l.94-2.06 2.06-.94-2.06-.94L8.5 2.5l-.94 2.06-2.06.94zm10 10l.94 2.06.94-2.06 2.06-.94-2.06-.94-.94-2.06-.94 2.06-2.06.94z\"/><path d=\"M17.41 7.96l-1.37-1.37c-.4-.4-.92-.59-1.43-.59-.52 0-1.04.2-1.43.59L10.3 9.45l-7.72 7.72c-.78.78-.78 2.05 0 2.83L4 21.41c.39.39.9.59 1.41.59.51 0 1.02-.2 1.41-.59l7.78-7.78 2.81-2.81c.8-.78.8-2.07 0-2.86zM5.41 20L4 18.59l7.72-7.72 1.47 1.35L5.41 20z\"/>\n",
              "  </svg>\n",
              "      </button>\n",
              "      \n",
              "  <style>\n",
              "    .colab-df-container {\n",
              "      display:flex;\n",
              "      flex-wrap:wrap;\n",
              "      gap: 12px;\n",
              "    }\n",
              "\n",
              "    .colab-df-convert {\n",
              "      background-color: #E8F0FE;\n",
              "      border: none;\n",
              "      border-radius: 50%;\n",
              "      cursor: pointer;\n",
              "      display: none;\n",
              "      fill: #1967D2;\n",
              "      height: 32px;\n",
              "      padding: 0 0 0 0;\n",
              "      width: 32px;\n",
              "    }\n",
              "\n",
              "    .colab-df-convert:hover {\n",
              "      background-color: #E2EBFA;\n",
              "      box-shadow: 0px 1px 2px rgba(60, 64, 67, 0.3), 0px 1px 3px 1px rgba(60, 64, 67, 0.15);\n",
              "      fill: #174EA6;\n",
              "    }\n",
              "\n",
              "    [theme=dark] .colab-df-convert {\n",
              "      background-color: #3B4455;\n",
              "      fill: #D2E3FC;\n",
              "    }\n",
              "\n",
              "    [theme=dark] .colab-df-convert:hover {\n",
              "      background-color: #434B5C;\n",
              "      box-shadow: 0px 1px 3px 1px rgba(0, 0, 0, 0.15);\n",
              "      filter: drop-shadow(0px 1px 2px rgba(0, 0, 0, 0.3));\n",
              "      fill: #FFFFFF;\n",
              "    }\n",
              "  </style>\n",
              "\n",
              "      <script>\n",
              "        const buttonEl =\n",
              "          document.querySelector('#df-f45c8ea9-8db3-4fa7-9b10-8c3319c744c7 button.colab-df-convert');\n",
              "        buttonEl.style.display =\n",
              "          google.colab.kernel.accessAllowed ? 'block' : 'none';\n",
              "\n",
              "        async function convertToInteractive(key) {\n",
              "          const element = document.querySelector('#df-f45c8ea9-8db3-4fa7-9b10-8c3319c744c7');\n",
              "          const dataTable =\n",
              "            await google.colab.kernel.invokeFunction('convertToInteractive',\n",
              "                                                     [key], {});\n",
              "          if (!dataTable) return;\n",
              "\n",
              "          const docLinkHtml = 'Like what you see? Visit the ' +\n",
              "            '<a target=\"_blank\" href=https://colab.research.google.com/notebooks/data_table.ipynb>data table notebook</a>'\n",
              "            + ' to learn more about interactive tables.';\n",
              "          element.innerHTML = '';\n",
              "          dataTable['output_type'] = 'display_data';\n",
              "          await google.colab.output.renderOutput(dataTable, element);\n",
              "          const docLink = document.createElement('div');\n",
              "          docLink.innerHTML = docLinkHtml;\n",
              "          element.appendChild(docLink);\n",
              "        }\n",
              "      </script>\n",
              "    </div>\n",
              "  </div>\n",
              "  "
            ]
          },
          "metadata": {},
          "execution_count": 42
        }
      ]
    },
    {
      "cell_type": "markdown",
      "source": [
        "## DMatrix"
      ],
      "metadata": {
        "id": "Oe1hpncsUiKn"
      }
    },
    {
      "cell_type": "markdown",
      "source": [
        "Dmatrix in XGBoost provides a flexible and efficient way to represent the input data and compute the necessary calculations for optimizing the model parameters during the training process, which helps to improve the accuracy and efficiency of the model fitting."
      ],
      "metadata": {
        "id": "Zm3metC-Sm9m"
      }
    },
    {
      "cell_type": "code",
      "source": [
        "feature_weights = np.ones(shape=(X.shape[1],))\n",
        "\n",
        "dtrain = xgb.DMatrix(X, y)\n",
        "dtrain.set_info(feature_weights=feature_weights)\n",
        "model = xgb.train(params={}, dtrain=dtrain)\n",
        "\n",
        "dtest = xgb.DMatrix(X_test)\n",
        "dtest.set_info(feature_weights=feature_weights)\n",
        "y_pred = model.predict(dtest)\n",
        "\n",
        "rmse_dmatrix = mean_squared_error(y_test, y_pred, squared=False)\n",
        "r2_dmatrix = r2_score(y_test, y_pred)\n",
        "print('RMSE:', rmse_dmatrix)\n",
        "print('R-squared:', r2_dmatrix)"
      ],
      "metadata": {
        "colab": {
          "base_uri": "https://localhost:8080/"
        },
        "id": "SriKTORkSmY_",
        "outputId": "2b639ce2-4c14-473d-b734-692bbb3613a4"
      },
      "execution_count": 95,
      "outputs": [
        {
          "output_type": "stream",
          "name": "stdout",
          "text": [
            "RMSE: 62315.35399648228\n",
            "R-squared: 0.7487560157502584\n"
          ]
        }
      ]
    },
    {
      "cell_type": "markdown",
      "source": [
        "## DMatrix and cross validation"
      ],
      "metadata": {
        "id": "blxaGxn3F7JV"
      }
    },
    {
      "cell_type": "code",
      "source": [
        "params = {\n",
        "    'max_depth': [4, 5],\n",
        "    'gamma': [0.01, 0.05],\n",
        "    'subsample': [0.8, 1],\n",
        "    'colsample_bynode': [0.2, 0.3]\n",
        "}"
      ],
      "metadata": {
        "id": "BUk4zfODAdLL"
      },
      "execution_count": 80,
      "outputs": []
    },
    {
      "cell_type": "code",
      "source": [
        "feature_weights = np.ones(shape=(X.shape[1],))\n",
        "\n",
        "fold_len = len(train_valid['yearmonth'].unique()) // 6\n",
        "\n",
        "best_rmse = 999999\n",
        "best_params = {}\n",
        "\n",
        "for c in itertools.product(*params.values()):\n",
        "    params_fold = dict(zip(params.keys(), c))\n",
        "\n",
        "    rmse_total = 0\n",
        "    for i in range(5):\n",
        "        train_start = i * fold_len\n",
        "        train_end = (i+1) * fold_len\n",
        "        valid_start = (i+1) * fold_len\n",
        "        valid_end = (i+2) * fold_len\n",
        "        if i == 4:\n",
        "            valid_end = len(train_valid['yearmonth'].unique())\n",
        "        train_fold = train_valid.groupby('County').apply(lambda x: x.iloc[train_start:train_end]).reset_index(drop=True)\n",
        "        valid_fold = train_valid.groupby('County').apply(lambda x: x.iloc[valid_start:valid_end]).reset_index(drop=True)\n",
        "\n",
        "        X_fold = train_fold.drop(['County', 'yearmonth', 'month', 'price_to_predict', 'county_encoded_tmp'], axis=1)\n",
        "        y_fold = train_fold['price_to_predict']\n",
        "        X_valid_fold = valid_fold.drop(['County', 'yearmonth', 'month', 'price_to_predict', 'county_encoded_tmp'], axis=1)\n",
        "        y_valid_fold = valid_fold['price_to_predict']\n",
        "\n",
        "        dtrain = xgb.DMatrix(X_fold, y_fold)\n",
        "        dtrain.set_info(feature_weights=feature_weights)\n",
        "        model = xgb.train(params=params_fold, dtrain=dtrain)\n",
        "\n",
        "        dvalid = xgb.DMatrix(X_valid_fold)\n",
        "        dvalid.set_info(feature_weights=feature_weights)\n",
        "        y_pred_fold = model.predict(dvalid)\n",
        "\n",
        "        rmse_fold = mean_squared_error(y_valid_fold, y_pred_fold, squared=False)\n",
        "        rmse_total += rmse_fold\n",
        "\n",
        "    rmse_mean = rmse_total / 5\n",
        "    print(f\"RMSE: {rmse_mean:.4f}    |    {params_fold}\")\n",
        "    if rmse_mean < best_rmse:\n",
        "        best_rmse = rmse_mean\n",
        "        best_params = params_fold\n",
        "\n",
        "print(f\"Best RMSE: {best_rmse:.4f}\")\n",
        "print(f\"Best parameters: {best_params}\")"
      ],
      "metadata": {
        "colab": {
          "base_uri": "https://localhost:8080/"
        },
        "id": "BehuzH1Q4VbA",
        "outputId": "e9471a78-4685-4249-f715-0354ab2f34ae"
      },
      "execution_count": 81,
      "outputs": [
        {
          "output_type": "stream",
          "name": "stdout",
          "text": [
            "RMSE: 28954.6103    |    {'max_depth': 4, 'gamma': 0.01, 'subsample': 0.8, 'colsample_bynode': 0.2}\n",
            "RMSE: 27214.8833    |    {'max_depth': 4, 'gamma': 0.01, 'subsample': 0.8, 'colsample_bynode': 0.3}\n",
            "RMSE: 27965.9956    |    {'max_depth': 4, 'gamma': 0.01, 'subsample': 1, 'colsample_bynode': 0.2}\n",
            "RMSE: 29146.1763    |    {'max_depth': 4, 'gamma': 0.01, 'subsample': 1, 'colsample_bynode': 0.3}\n",
            "RMSE: 28954.6103    |    {'max_depth': 4, 'gamma': 0.05, 'subsample': 0.8, 'colsample_bynode': 0.2}\n",
            "RMSE: 27214.8833    |    {'max_depth': 4, 'gamma': 0.05, 'subsample': 0.8, 'colsample_bynode': 0.3}\n",
            "RMSE: 27965.9956    |    {'max_depth': 4, 'gamma': 0.05, 'subsample': 1, 'colsample_bynode': 0.2}\n",
            "RMSE: 29146.1763    |    {'max_depth': 4, 'gamma': 0.05, 'subsample': 1, 'colsample_bynode': 0.3}\n",
            "RMSE: 28641.9203    |    {'max_depth': 5, 'gamma': 0.01, 'subsample': 0.8, 'colsample_bynode': 0.2}\n",
            "RMSE: 28595.9891    |    {'max_depth': 5, 'gamma': 0.01, 'subsample': 0.8, 'colsample_bynode': 0.3}\n",
            "RMSE: 28679.6138    |    {'max_depth': 5, 'gamma': 0.01, 'subsample': 1, 'colsample_bynode': 0.2}\n",
            "RMSE: 29785.6168    |    {'max_depth': 5, 'gamma': 0.01, 'subsample': 1, 'colsample_bynode': 0.3}\n",
            "RMSE: 28641.9203    |    {'max_depth': 5, 'gamma': 0.05, 'subsample': 0.8, 'colsample_bynode': 0.2}\n",
            "RMSE: 28595.9891    |    {'max_depth': 5, 'gamma': 0.05, 'subsample': 0.8, 'colsample_bynode': 0.3}\n",
            "RMSE: 28679.6138    |    {'max_depth': 5, 'gamma': 0.05, 'subsample': 1, 'colsample_bynode': 0.2}\n",
            "RMSE: 29785.6168    |    {'max_depth': 5, 'gamma': 0.05, 'subsample': 1, 'colsample_bynode': 0.3}\n",
            "Best RMSE: 27214.8833\n",
            "Best parameters: {'max_depth': 4, 'gamma': 0.01, 'subsample': 0.8, 'colsample_bynode': 0.3}\n"
          ]
        }
      ]
    },
    {
      "cell_type": "markdown",
      "source": [
        "Change feature weights"
      ],
      "metadata": {
        "id": "LCkJmiaiIx9m"
      }
    },
    {
      "cell_type": "code",
      "source": [
        "feature_weights[X.columns.get_loc('price_lag_1')] = 2"
      ],
      "metadata": {
        "id": "vpq8em4dIg6m"
      },
      "execution_count": 82,
      "outputs": []
    },
    {
      "cell_type": "code",
      "source": [
        "best_rmse_weighted = 999999\n",
        "best_params_weighted = {}\n",
        "\n",
        "for c in itertools.product(*params.values()):\n",
        "    params_fold = dict(zip(params.keys(), c))\n",
        "\n",
        "    rmse_total = 0\n",
        "    for i in range(5):\n",
        "        train_start = i * fold_len\n",
        "        train_end = (i+1) * fold_len\n",
        "        valid_start = (i+1) * fold_len\n",
        "        valid_end = (i+2) * fold_len\n",
        "        if i == 4:\n",
        "            valid_end = len(train_valid['yearmonth'].unique())\n",
        "        train_fold = train_valid.groupby('County').apply(lambda x: x.iloc[train_start:train_end]).reset_index(drop=True)\n",
        "        valid_fold = train_valid.groupby('County').apply(lambda x: x.iloc[valid_start:valid_end]).reset_index(drop=True)\n",
        "\n",
        "        X_fold = train_fold.drop(['County', 'yearmonth', 'month', 'price_to_predict', 'county_encoded_tmp'], axis=1)\n",
        "        y_fold = train_fold['price_to_predict']\n",
        "        X_valid_fold = valid_fold.drop(['County', 'yearmonth', 'month', 'price_to_predict', 'county_encoded_tmp'], axis=1)\n",
        "        y_valid_fold = valid_fold['price_to_predict']\n",
        "\n",
        "        dtrain = xgb.DMatrix(X_fold, y_fold)\n",
        "        dtrain.set_info(feature_weights=feature_weights)\n",
        "        model = xgb.train(params=params_fold, dtrain=dtrain)\n",
        "\n",
        "        dvalid = xgb.DMatrix(X_valid_fold)\n",
        "        dvalid.set_info(feature_weights=feature_weights)\n",
        "        y_pred_fold = model.predict(dvalid)\n",
        "\n",
        "        rmse_fold = mean_squared_error(y_valid_fold, y_pred_fold, squared=False)\n",
        "        rmse_total += rmse_fold\n",
        "\n",
        "    rmse_mean = rmse_total / 5\n",
        "    print(f\"RMSE: {rmse_mean:.4f}    |    {params_fold}\")\n",
        "    if rmse_mean < best_rmse_weighted:\n",
        "        best_rmse_weighted = rmse_mean\n",
        "        best_params_weighted = params_fold\n",
        "\n",
        "print(f\"Best RMSE: {best_rmse_weighted:.4f}\")\n",
        "print(f\"Best parameters: {best_params_weighted}\")"
      ],
      "metadata": {
        "colab": {
          "base_uri": "https://localhost:8080/"
        },
        "id": "q_PDGfIxI2XV",
        "outputId": "880ca7c9-4947-4d07-df03-91162e8cb489"
      },
      "execution_count": 83,
      "outputs": [
        {
          "output_type": "stream",
          "name": "stdout",
          "text": [
            "RMSE: 28756.6470    |    {'max_depth': 4, 'gamma': 0.01, 'subsample': 0.8, 'colsample_bynode': 0.2}\n",
            "RMSE: 27928.4894    |    {'max_depth': 4, 'gamma': 0.01, 'subsample': 0.8, 'colsample_bynode': 0.3}\n",
            "RMSE: 27744.3519    |    {'max_depth': 4, 'gamma': 0.01, 'subsample': 1, 'colsample_bynode': 0.2}\n",
            "RMSE: 29439.0365    |    {'max_depth': 4, 'gamma': 0.01, 'subsample': 1, 'colsample_bynode': 0.3}\n",
            "RMSE: 28756.6470    |    {'max_depth': 4, 'gamma': 0.05, 'subsample': 0.8, 'colsample_bynode': 0.2}\n",
            "RMSE: 27928.4894    |    {'max_depth': 4, 'gamma': 0.05, 'subsample': 0.8, 'colsample_bynode': 0.3}\n",
            "RMSE: 27744.3519    |    {'max_depth': 4, 'gamma': 0.05, 'subsample': 1, 'colsample_bynode': 0.2}\n",
            "RMSE: 29439.0365    |    {'max_depth': 4, 'gamma': 0.05, 'subsample': 1, 'colsample_bynode': 0.3}\n",
            "RMSE: 29147.4644    |    {'max_depth': 5, 'gamma': 0.01, 'subsample': 0.8, 'colsample_bynode': 0.2}\n",
            "RMSE: 28654.5918    |    {'max_depth': 5, 'gamma': 0.01, 'subsample': 0.8, 'colsample_bynode': 0.3}\n",
            "RMSE: 28619.9419    |    {'max_depth': 5, 'gamma': 0.01, 'subsample': 1, 'colsample_bynode': 0.2}\n",
            "RMSE: 29270.6717    |    {'max_depth': 5, 'gamma': 0.01, 'subsample': 1, 'colsample_bynode': 0.3}\n",
            "RMSE: 29147.4644    |    {'max_depth': 5, 'gamma': 0.05, 'subsample': 0.8, 'colsample_bynode': 0.2}\n",
            "RMSE: 28654.5918    |    {'max_depth': 5, 'gamma': 0.05, 'subsample': 0.8, 'colsample_bynode': 0.3}\n",
            "RMSE: 28619.9419    |    {'max_depth': 5, 'gamma': 0.05, 'subsample': 1, 'colsample_bynode': 0.2}\n",
            "RMSE: 29270.6717    |    {'max_depth': 5, 'gamma': 0.05, 'subsample': 1, 'colsample_bynode': 0.3}\n",
            "Best RMSE: 27744.3519\n",
            "Best parameters: {'max_depth': 4, 'gamma': 0.01, 'subsample': 1, 'colsample_bynode': 0.2}\n"
          ]
        }
      ]
    },
    {
      "cell_type": "code",
      "source": [
        "feature_weights = np.ones(shape=(X.shape[1],))"
      ],
      "metadata": {
        "id": "i9wcaVdyK2eA"
      },
      "execution_count": 84,
      "outputs": []
    },
    {
      "cell_type": "code",
      "source": [
        "dtrain = xgb.DMatrix(X, y)\n",
        "dtrain.set_info(feature_weights=feature_weights)\n",
        "model = xgb.train(params=best_params, dtrain=dtrain)\n",
        "\n",
        "dtest = xgb.DMatrix(X_test)\n",
        "dtest.set_info(feature_weights=feature_weights)\n",
        "y_pred = model.predict(dtest)\n",
        "\n",
        "rmse_dmatrix_cv = mean_squared_error(y_test, y_pred, squared=False)\n",
        "r2_dmatrix_cv = r2_score(y_test, y_pred)\n",
        "print('RMSE:', rmse_dmatrix_cv)\n",
        "print('R-squared:', r2_dmatrix_cv)"
      ],
      "metadata": {
        "colab": {
          "base_uri": "https://localhost:8080/"
        },
        "id": "R224y_LvEPaj",
        "outputId": "9960a315-21b4-4c04-bee6-9843c6b9f321"
      },
      "execution_count": 87,
      "outputs": [
        {
          "output_type": "stream",
          "name": "stdout",
          "text": [
            "RMSE: 61807.95491992497\n",
            "R-squared: 0.7528308369412828\n"
          ]
        }
      ]
    },
    {
      "cell_type": "code",
      "source": [
        "feat_imp_dict = model.get_fscore()\n",
        "sorted_feat_imp_dict = {k: v for k, v in sorted(feat_imp_dict.items(), key=lambda item: item[1], reverse=True)[:10]}\n",
        "sorted_feat_imp_dict"
      ],
      "metadata": {
        "colab": {
          "base_uri": "https://localhost:8080/"
        },
        "id": "lP4Ni3XPEGRc",
        "outputId": "b644c152-4382-45e9-95f7-b414908e6e51"
      },
      "execution_count": 88,
      "outputs": [
        {
          "output_type": "execute_result",
          "data": {
            "text/plain": [
              "{'Price': 26.0,\n",
              " 'price_lag_1': 19.0,\n",
              " 'price_lag_3': 14.0,\n",
              " 'price_lag_2': 12.0,\n",
              " 'price_lag_5': 11.0,\n",
              " 'price_lag_8': 9.0,\n",
              " 'price_lag_10': 9.0,\n",
              " 'price_lag_11': 9.0,\n",
              " 'price_lag_6': 8.0,\n",
              " 'price_lag_4': 7.0}"
            ]
          },
          "metadata": {},
          "execution_count": 88
        }
      ]
    },
    {
      "cell_type": "markdown",
      "source": [
        "## Compare Models"
      ],
      "metadata": {
        "id": "DXVqyE_dNJX6"
      }
    },
    {
      "cell_type": "code",
      "source": [
        "pd.DataFrame({\n",
        "    'model': ['baseline', 'cv', 'dmatrix', 'dmatrix_cv'],\n",
        "    'rmse': [rmse_baseline, rmse_cv, rmse_dmatrix, rmse_dmatrix_cv],\n",
        "    'r2': [r2_baseline, r2_cv, r2_dmatrix, r2_dmatrix_cv]\n",
        "})"
      ],
      "metadata": {
        "colab": {
          "base_uri": "https://localhost:8080/",
          "height": 175
        },
        "id": "aesbQ102L70f",
        "outputId": "b282860a-48a3-47d3-b583-33c342257842"
      },
      "execution_count": 96,
      "outputs": [
        {
          "output_type": "execute_result",
          "data": {
            "text/plain": [
              "        model          rmse        r2\n",
              "0    baseline  64545.759892  0.730449\n",
              "1          cv  62461.069511  0.747580\n",
              "2     dmatrix  62315.353996  0.748756\n",
              "3  dmatrix_cv  61807.954920  0.752831"
            ],
            "text/html": [
              "\n",
              "  <div id=\"df-c491eee4-969c-4030-8074-35d0e191345a\">\n",
              "    <div class=\"colab-df-container\">\n",
              "      <div>\n",
              "<style scoped>\n",
              "    .dataframe tbody tr th:only-of-type {\n",
              "        vertical-align: middle;\n",
              "    }\n",
              "\n",
              "    .dataframe tbody tr th {\n",
              "        vertical-align: top;\n",
              "    }\n",
              "\n",
              "    .dataframe thead th {\n",
              "        text-align: right;\n",
              "    }\n",
              "</style>\n",
              "<table border=\"1\" class=\"dataframe\">\n",
              "  <thead>\n",
              "    <tr style=\"text-align: right;\">\n",
              "      <th></th>\n",
              "      <th>model</th>\n",
              "      <th>rmse</th>\n",
              "      <th>r2</th>\n",
              "    </tr>\n",
              "  </thead>\n",
              "  <tbody>\n",
              "    <tr>\n",
              "      <th>0</th>\n",
              "      <td>baseline</td>\n",
              "      <td>64545.759892</td>\n",
              "      <td>0.730449</td>\n",
              "    </tr>\n",
              "    <tr>\n",
              "      <th>1</th>\n",
              "      <td>cv</td>\n",
              "      <td>62461.069511</td>\n",
              "      <td>0.747580</td>\n",
              "    </tr>\n",
              "    <tr>\n",
              "      <th>2</th>\n",
              "      <td>dmatrix</td>\n",
              "      <td>62315.353996</td>\n",
              "      <td>0.748756</td>\n",
              "    </tr>\n",
              "    <tr>\n",
              "      <th>3</th>\n",
              "      <td>dmatrix_cv</td>\n",
              "      <td>61807.954920</td>\n",
              "      <td>0.752831</td>\n",
              "    </tr>\n",
              "  </tbody>\n",
              "</table>\n",
              "</div>\n",
              "      <button class=\"colab-df-convert\" onclick=\"convertToInteractive('df-c491eee4-969c-4030-8074-35d0e191345a')\"\n",
              "              title=\"Convert this dataframe to an interactive table.\"\n",
              "              style=\"display:none;\">\n",
              "        \n",
              "  <svg xmlns=\"http://www.w3.org/2000/svg\" height=\"24px\"viewBox=\"0 0 24 24\"\n",
              "       width=\"24px\">\n",
              "    <path d=\"M0 0h24v24H0V0z\" fill=\"none\"/>\n",
              "    <path d=\"M18.56 5.44l.94 2.06.94-2.06 2.06-.94-2.06-.94-.94-2.06-.94 2.06-2.06.94zm-11 1L8.5 8.5l.94-2.06 2.06-.94-2.06-.94L8.5 2.5l-.94 2.06-2.06.94zm10 10l.94 2.06.94-2.06 2.06-.94-2.06-.94-.94-2.06-.94 2.06-2.06.94z\"/><path d=\"M17.41 7.96l-1.37-1.37c-.4-.4-.92-.59-1.43-.59-.52 0-1.04.2-1.43.59L10.3 9.45l-7.72 7.72c-.78.78-.78 2.05 0 2.83L4 21.41c.39.39.9.59 1.41.59.51 0 1.02-.2 1.41-.59l7.78-7.78 2.81-2.81c.8-.78.8-2.07 0-2.86zM5.41 20L4 18.59l7.72-7.72 1.47 1.35L5.41 20z\"/>\n",
              "  </svg>\n",
              "      </button>\n",
              "      \n",
              "  <style>\n",
              "    .colab-df-container {\n",
              "      display:flex;\n",
              "      flex-wrap:wrap;\n",
              "      gap: 12px;\n",
              "    }\n",
              "\n",
              "    .colab-df-convert {\n",
              "      background-color: #E8F0FE;\n",
              "      border: none;\n",
              "      border-radius: 50%;\n",
              "      cursor: pointer;\n",
              "      display: none;\n",
              "      fill: #1967D2;\n",
              "      height: 32px;\n",
              "      padding: 0 0 0 0;\n",
              "      width: 32px;\n",
              "    }\n",
              "\n",
              "    .colab-df-convert:hover {\n",
              "      background-color: #E2EBFA;\n",
              "      box-shadow: 0px 1px 2px rgba(60, 64, 67, 0.3), 0px 1px 3px 1px rgba(60, 64, 67, 0.15);\n",
              "      fill: #174EA6;\n",
              "    }\n",
              "\n",
              "    [theme=dark] .colab-df-convert {\n",
              "      background-color: #3B4455;\n",
              "      fill: #D2E3FC;\n",
              "    }\n",
              "\n",
              "    [theme=dark] .colab-df-convert:hover {\n",
              "      background-color: #434B5C;\n",
              "      box-shadow: 0px 1px 3px 1px rgba(0, 0, 0, 0.15);\n",
              "      filter: drop-shadow(0px 1px 2px rgba(0, 0, 0, 0.3));\n",
              "      fill: #FFFFFF;\n",
              "    }\n",
              "  </style>\n",
              "\n",
              "      <script>\n",
              "        const buttonEl =\n",
              "          document.querySelector('#df-c491eee4-969c-4030-8074-35d0e191345a button.colab-df-convert');\n",
              "        buttonEl.style.display =\n",
              "          google.colab.kernel.accessAllowed ? 'block' : 'none';\n",
              "\n",
              "        async function convertToInteractive(key) {\n",
              "          const element = document.querySelector('#df-c491eee4-969c-4030-8074-35d0e191345a');\n",
              "          const dataTable =\n",
              "            await google.colab.kernel.invokeFunction('convertToInteractive',\n",
              "                                                     [key], {});\n",
              "          if (!dataTable) return;\n",
              "\n",
              "          const docLinkHtml = 'Like what you see? Visit the ' +\n",
              "            '<a target=\"_blank\" href=https://colab.research.google.com/notebooks/data_table.ipynb>data table notebook</a>'\n",
              "            + ' to learn more about interactive tables.';\n",
              "          element.innerHTML = '';\n",
              "          dataTable['output_type'] = 'display_data';\n",
              "          await google.colab.output.renderOutput(dataTable, element);\n",
              "          const docLink = document.createElement('div');\n",
              "          docLink.innerHTML = docLinkHtml;\n",
              "          element.appendChild(docLink);\n",
              "        }\n",
              "      </script>\n",
              "    </div>\n",
              "  </div>\n",
              "  "
            ]
          },
          "metadata": {},
          "execution_count": 96
        }
      ]
    },
    {
      "cell_type": "markdown",
      "source": [
        "# Error Analysis"
      ],
      "metadata": {
        "id": "7CpnChNXOlHv"
      }
    },
    {
      "cell_type": "markdown",
      "source": [
        "Plot y_true vs y_pred"
      ],
      "metadata": {
        "id": "mNuOXZAx_rsp"
      }
    },
    {
      "cell_type": "code",
      "source": [
        "plt.scatter(y_test, y_pred)\n",
        "plt.plot([0, 1000000], [0, 1000000], c='orange')\n",
        "plt.xlabel('y_true')\n",
        "plt.ylabel('y_pred')\n",
        "plt.axis('scaled')\n",
        "plt.show()"
      ],
      "metadata": {
        "colab": {
          "base_uri": "https://localhost:8080/",
          "height": 465
        },
        "id": "vuIaK4s_9i83",
        "outputId": "4879d831-517e-4e7d-aa9f-7c91920f0259"
      },
      "execution_count": null,
      "outputs": [
        {
          "output_type": "display_data",
          "data": {
            "text/plain": [
              "<Figure size 640x480 with 1 Axes>"
            ],
            "image/png": "[encoded data removed]"
          },
          "metadata": {}
        }
      ]
    },
    {
      "cell_type": "markdown",
      "source": [
        "## Define a metric to measure error"
      ],
      "metadata": {
        "id": "tbLsY0PrQjXp"
      }
    },
    {
      "cell_type": "markdown",
      "source": [
        "Total distance between y_true and y_pred compared to y_true, the lower the better"
      ],
      "metadata": {
        "id": "mjGIFiJJl9LG"
      }
    },
    {
      "cell_type": "code",
      "source": [
        "def measure_error(y_true, y_pred):\n",
        "    return np.sum(np.abs(y_true - y_pred)) / np.sum(y_true)"
      ],
      "metadata": {
        "id": "mKzfm1ZABmHS"
      },
      "execution_count": null,
      "outputs": []
    },
    {
      "cell_type": "markdown",
      "source": [
        "## Find counties that have highest errors"
      ],
      "metadata": {
        "id": "G-sznQIXQvwR"
      }
    },
    {
      "cell_type": "code",
      "source": [
        "df_result = pd.DataFrame({'county': test['County'], 'yearmonth': [201701, 201702, 201703, 201704, 201705]*(len(test['County'])//5), \n",
        "                          'y_true': y_test, 'y_pred': y_pred}).reset_index(drop=True)"
      ],
      "metadata": {
        "id": "JrxOm7MQbR_V"
      },
      "execution_count": null,
      "outputs": []
    },
    {
      "cell_type": "code",
      "source": [
        "df_result.head()"
      ],
      "metadata": {
        "colab": {
          "base_uri": "https://localhost:8080/",
          "height": 206
        },
        "id": "wwd1Ug6w7BM-",
        "outputId": "bf2f7cb9-0650-431d-97c9-12da06b4a752"
      },
      "execution_count": null,
      "outputs": [
        {
          "output_type": "execute_result",
          "data": {
            "text/plain": [
              "                         county  yearmonth         y_true        y_pred\n",
              "0  BATH AND NORTH EAST SOMERSET     201701  372461.143541  442396.75000\n",
              "1  BATH AND NORTH EAST SOMERSET     201702  460664.207317  400875.62500\n",
              "2  BATH AND NORTH EAST SOMERSET     201703  383016.081448  393249.81250\n",
              "3  BATH AND NORTH EAST SOMERSET     201704  474006.633333  476935.28125\n",
              "4  BATH AND NORTH EAST SOMERSET     201705  351704.869048  402950.25000"
            ],
            "text/html": [
              "\n",
              "  <div id=\"df-37493495-855f-42da-ae33-a7cd50eee028\">\n",
              "    <div class=\"colab-df-container\">\n",
              "      <div>\n",
              "<style scoped>\n",
              "    .dataframe tbody tr th:only-of-type {\n",
              "        vertical-align: middle;\n",
              "    }\n",
              "\n",
              "    .dataframe tbody tr th {\n",
              "        vertical-align: top;\n",
              "    }\n",
              "\n",
              "    .dataframe thead th {\n",
              "        text-align: right;\n",
              "    }\n",
              "</style>\n",
              "<table border=\"1\" class=\"dataframe\">\n",
              "  <thead>\n",
              "    <tr style=\"text-align: right;\">\n",
              "      <th></th>\n",
              "      <th>county</th>\n",
              "      <th>yearmonth</th>\n",
              "      <th>y_true</th>\n",
              "      <th>y_pred</th>\n",
              "    </tr>\n",
              "  </thead>\n",
              "  <tbody>\n",
              "    <tr>\n",
              "      <th>0</th>\n",
              "      <td>BATH AND NORTH EAST SOMERSET</td>\n",
              "      <td>201701</td>\n",
              "      <td>372461.143541</td>\n",
              "      <td>442396.75000</td>\n",
              "    </tr>\n",
              "    <tr>\n",
              "      <th>1</th>\n",
              "      <td>BATH AND NORTH EAST SOMERSET</td>\n",
              "      <td>201702</td>\n",
              "      <td>460664.207317</td>\n",
              "      <td>400875.62500</td>\n",
              "    </tr>\n",
              "    <tr>\n",
              "      <th>2</th>\n",
              "      <td>BATH AND NORTH EAST SOMERSET</td>\n",
              "      <td>201703</td>\n",
              "      <td>383016.081448</td>\n",
              "      <td>393249.81250</td>\n",
              "    </tr>\n",
              "    <tr>\n",
              "      <th>3</th>\n",
              "      <td>BATH AND NORTH EAST SOMERSET</td>\n",
              "      <td>201704</td>\n",
              "      <td>474006.633333</td>\n",
              "      <td>476935.28125</td>\n",
              "    </tr>\n",
              "    <tr>\n",
              "      <th>4</th>\n",
              "      <td>BATH AND NORTH EAST SOMERSET</td>\n",
              "      <td>201705</td>\n",
              "      <td>351704.869048</td>\n",
              "      <td>402950.25000</td>\n",
              "    </tr>\n",
              "  </tbody>\n",
              "</table>\n",
              "</div>\n",
              "      <button class=\"colab-df-convert\" onclick=\"convertToInteractive('df-37493495-855f-42da-ae33-a7cd50eee028')\"\n",
              "              title=\"Convert this dataframe to an interactive table.\"\n",
              "              style=\"display:none;\">\n",
              "        \n",
              "  <svg xmlns=\"http://www.w3.org/2000/svg\" height=\"24px\"viewBox=\"0 0 24 24\"\n",
              "       width=\"24px\">\n",
              "    <path d=\"M0 0h24v24H0V0z\" fill=\"none\"/>\n",
              "    <path d=\"M18.56 5.44l.94 2.06.94-2.06 2.06-.94-2.06-.94-.94-2.06-.94 2.06-2.06.94zm-11 1L8.5 8.5l.94-2.06 2.06-.94-2.06-.94L8.5 2.5l-.94 2.06-2.06.94zm10 10l.94 2.06.94-2.06 2.06-.94-2.06-.94-.94-2.06-.94 2.06-2.06.94z\"/><path d=\"M17.41 7.96l-1.37-1.37c-.4-.4-.92-.59-1.43-.59-.52 0-1.04.2-1.43.59L10.3 9.45l-7.72 7.72c-.78.78-.78 2.05 0 2.83L4 21.41c.39.39.9.59 1.41.59.51 0 1.02-.2 1.41-.59l7.78-7.78 2.81-2.81c.8-.78.8-2.07 0-2.86zM5.41 20L4 18.59l7.72-7.72 1.47 1.35L5.41 20z\"/>\n",
              "  </svg>\n",
              "      </button>\n",
              "      \n",
              "  <style>\n",
              "    .colab-df-container {\n",
              "      display:flex;\n",
              "      flex-wrap:wrap;\n",
              "      gap: 12px;\n",
              "    }\n",
              "\n",
              "    .colab-df-convert {\n",
              "      background-color: #E8F0FE;\n",
              "      border: none;\n",
              "      border-radius: 50%;\n",
              "      cursor: pointer;\n",
              "      display: none;\n",
              "      fill: #1967D2;\n",
              "      height: 32px;\n",
              "      padding: 0 0 0 0;\n",
              "      width: 32px;\n",
              "    }\n",
              "\n",
              "    .colab-df-convert:hover {\n",
              "      background-color: #E2EBFA;\n",
              "      box-shadow: 0px 1px 2px rgba(60, 64, 67, 0.3), 0px 1px 3px 1px rgba(60, 64, 67, 0.15);\n",
              "      fill: #174EA6;\n",
              "    }\n",
              "\n",
              "    [theme=dark] .colab-df-convert {\n",
              "      background-color: #3B4455;\n",
              "      fill: #D2E3FC;\n",
              "    }\n",
              "\n",
              "    [theme=dark] .colab-df-convert:hover {\n",
              "      background-color: #434B5C;\n",
              "      box-shadow: 0px 1px 3px 1px rgba(0, 0, 0, 0.15);\n",
              "      filter: drop-shadow(0px 1px 2px rgba(0, 0, 0, 0.3));\n",
              "      fill: #FFFFFF;\n",
              "    }\n",
              "  </style>\n",
              "\n",
              "      <script>\n",
              "        const buttonEl =\n",
              "          document.querySelector('#df-37493495-855f-42da-ae33-a7cd50eee028 button.colab-df-convert');\n",
              "        buttonEl.style.display =\n",
              "          google.colab.kernel.accessAllowed ? 'block' : 'none';\n",
              "\n",
              "        async function convertToInteractive(key) {\n",
              "          const element = document.querySelector('#df-37493495-855f-42da-ae33-a7cd50eee028');\n",
              "          const dataTable =\n",
              "            await google.colab.kernel.invokeFunction('convertToInteractive',\n",
              "                                                     [key], {});\n",
              "          if (!dataTable) return;\n",
              "\n",
              "          const docLinkHtml = 'Like what you see? Visit the ' +\n",
              "            '<a target=\"_blank\" href=https://colab.research.google.com/notebooks/data_table.ipynb>data table notebook</a>'\n",
              "            + ' to learn more about interactive tables.';\n",
              "          element.innerHTML = '';\n",
              "          dataTable['output_type'] = 'display_data';\n",
              "          await google.colab.output.renderOutput(dataTable, element);\n",
              "          const docLink = document.createElement('div');\n",
              "          docLink.innerHTML = docLinkHtml;\n",
              "          element.appendChild(docLink);\n",
              "        }\n",
              "      </script>\n",
              "    </div>\n",
              "  </div>\n",
              "  "
            ]
          },
          "metadata": {},
          "execution_count": 50
        }
      ]
    },
    {
      "cell_type": "code",
      "source": [
        "error_lst = []\n",
        "for cty in test['County'].unique():\n",
        "    error = measure_error(df_result.loc[df_result['county']==cty, 'y_true'], df_result.loc[df_result['county']==cty, 'y_pred'])\n",
        "    error_lst.append({'county': cty, 'error': error})\n",
        "df_error = pd.DataFrame(error_lst).sort_values(by=['error'], ascending=False).reset_index(drop=True)"
      ],
      "metadata": {
        "id": "cesv7X7OSKCS"
      },
      "execution_count": null,
      "outputs": []
    },
    {
      "cell_type": "code",
      "source": [
        "df_error.head()"
      ],
      "metadata": {
        "colab": {
          "base_uri": "https://localhost:8080/",
          "height": 206
        },
        "id": "viiVcGWmSK9g",
        "outputId": "c4c2e0e5-a131-4e84-c49a-dc252c40bdd9"
      },
      "execution_count": null,
      "outputs": [
        {
          "output_type": "execute_result",
          "data": {
            "text/plain": [
              "                       county     error\n",
              "0  CITY OF KINGSTON UPON HULL  0.512746\n",
              "1                     NEWPORT  0.509443\n",
              "2          CITY OF NOTTINGHAM  0.307783\n",
              "3             ISLES OF SCILLY  0.296884\n",
              "4           NEATH PORT TALBOT  0.296346"
            ],
            "text/html": [
              "\n",
              "  <div id=\"df-4266f3a2-7c1f-4192-b3ef-029e3ccc2a8e\">\n",
              "    <div class=\"colab-df-container\">\n",
              "      <div>\n",
              "<style scoped>\n",
              "    .dataframe tbody tr th:only-of-type {\n",
              "        vertical-align: middle;\n",
              "    }\n",
              "\n",
              "    .dataframe tbody tr th {\n",
              "        vertical-align: top;\n",
              "    }\n",
              "\n",
              "    .dataframe thead th {\n",
              "        text-align: right;\n",
              "    }\n",
              "</style>\n",
              "<table border=\"1\" class=\"dataframe\">\n",
              "  <thead>\n",
              "    <tr style=\"text-align: right;\">\n",
              "      <th></th>\n",
              "      <th>county</th>\n",
              "      <th>error</th>\n",
              "    </tr>\n",
              "  </thead>\n",
              "  <tbody>\n",
              "    <tr>\n",
              "      <th>0</th>\n",
              "      <td>CITY OF KINGSTON UPON HULL</td>\n",
              "      <td>0.512746</td>\n",
              "    </tr>\n",
              "    <tr>\n",
              "      <th>1</th>\n",
              "      <td>NEWPORT</td>\n",
              "      <td>0.509443</td>\n",
              "    </tr>\n",
              "    <tr>\n",
              "      <th>2</th>\n",
              "      <td>CITY OF NOTTINGHAM</td>\n",
              "      <td>0.307783</td>\n",
              "    </tr>\n",
              "    <tr>\n",
              "      <th>3</th>\n",
              "      <td>ISLES OF SCILLY</td>\n",
              "      <td>0.296884</td>\n",
              "    </tr>\n",
              "    <tr>\n",
              "      <th>4</th>\n",
              "      <td>NEATH PORT TALBOT</td>\n",
              "      <td>0.296346</td>\n",
              "    </tr>\n",
              "  </tbody>\n",
              "</table>\n",
              "</div>\n",
              "      <button class=\"colab-df-convert\" onclick=\"convertToInteractive('df-4266f3a2-7c1f-4192-b3ef-029e3ccc2a8e')\"\n",
              "              title=\"Convert this dataframe to an interactive table.\"\n",
              "              style=\"display:none;\">\n",
              "        \n",
              "  <svg xmlns=\"http://www.w3.org/2000/svg\" height=\"24px\"viewBox=\"0 0 24 24\"\n",
              "       width=\"24px\">\n",
              "    <path d=\"M0 0h24v24H0V0z\" fill=\"none\"/>\n",
              "    <path d=\"M18.56 5.44l.94 2.06.94-2.06 2.06-.94-2.06-.94-.94-2.06-.94 2.06-2.06.94zm-11 1L8.5 8.5l.94-2.06 2.06-.94-2.06-.94L8.5 2.5l-.94 2.06-2.06.94zm10 10l.94 2.06.94-2.06 2.06-.94-2.06-.94-.94-2.06-.94 2.06-2.06.94z\"/><path d=\"M17.41 7.96l-1.37-1.37c-.4-.4-.92-.59-1.43-.59-.52 0-1.04.2-1.43.59L10.3 9.45l-7.72 7.72c-.78.78-.78 2.05 0 2.83L4 21.41c.39.39.9.59 1.41.59.51 0 1.02-.2 1.41-.59l7.78-7.78 2.81-2.81c.8-.78.8-2.07 0-2.86zM5.41 20L4 18.59l7.72-7.72 1.47 1.35L5.41 20z\"/>\n",
              "  </svg>\n",
              "      </button>\n",
              "      \n",
              "  <style>\n",
              "    .colab-df-container {\n",
              "      display:flex;\n",
              "      flex-wrap:wrap;\n",
              "      gap: 12px;\n",
              "    }\n",
              "\n",
              "    .colab-df-convert {\n",
              "      background-color: #E8F0FE;\n",
              "      border: none;\n",
              "      border-radius: 50%;\n",
              "      cursor: pointer;\n",
              "      display: none;\n",
              "      fill: #1967D2;\n",
              "      height: 32px;\n",
              "      padding: 0 0 0 0;\n",
              "      width: 32px;\n",
              "    }\n",
              "\n",
              "    .colab-df-convert:hover {\n",
              "      background-color: #E2EBFA;\n",
              "      box-shadow: 0px 1px 2px rgba(60, 64, 67, 0.3), 0px 1px 3px 1px rgba(60, 64, 67, 0.15);\n",
              "      fill: #174EA6;\n",
              "    }\n",
              "\n",
              "    [theme=dark] .colab-df-convert {\n",
              "      background-color: #3B4455;\n",
              "      fill: #D2E3FC;\n",
              "    }\n",
              "\n",
              "    [theme=dark] .colab-df-convert:hover {\n",
              "      background-color: #434B5C;\n",
              "      box-shadow: 0px 1px 3px 1px rgba(0, 0, 0, 0.15);\n",
              "      filter: drop-shadow(0px 1px 2px rgba(0, 0, 0, 0.3));\n",
              "      fill: #FFFFFF;\n",
              "    }\n",
              "  </style>\n",
              "\n",
              "      <script>\n",
              "        const buttonEl =\n",
              "          document.querySelector('#df-4266f3a2-7c1f-4192-b3ef-029e3ccc2a8e button.colab-df-convert');\n",
              "        buttonEl.style.display =\n",
              "          google.colab.kernel.accessAllowed ? 'block' : 'none';\n",
              "\n",
              "        async function convertToInteractive(key) {\n",
              "          const element = document.querySelector('#df-4266f3a2-7c1f-4192-b3ef-029e3ccc2a8e');\n",
              "          const dataTable =\n",
              "            await google.colab.kernel.invokeFunction('convertToInteractive',\n",
              "                                                     [key], {});\n",
              "          if (!dataTable) return;\n",
              "\n",
              "          const docLinkHtml = 'Like what you see? Visit the ' +\n",
              "            '<a target=\"_blank\" href=https://colab.research.google.com/notebooks/data_table.ipynb>data table notebook</a>'\n",
              "            + ' to learn more about interactive tables.';\n",
              "          element.innerHTML = '';\n",
              "          dataTable['output_type'] = 'display_data';\n",
              "          await google.colab.output.renderOutput(dataTable, element);\n",
              "          const docLink = document.createElement('div');\n",
              "          docLink.innerHTML = docLinkHtml;\n",
              "          element.appendChild(docLink);\n",
              "        }\n",
              "      </script>\n",
              "    </div>\n",
              "  </div>\n",
              "  "
            ]
          },
          "metadata": {},
          "execution_count": 52
        }
      ]
    },
    {
      "cell_type": "code",
      "source": [
        "top_5_error_cty = list(df_error['county'][:5])\n",
        "colors = dict(zip(top_5_error_cty, ['red', 'orange', 'green', 'blue', 'gray']))\n",
        "for cty in top_5_error_cty:\n",
        "    plt.scatter(\n",
        "        df_result.loc[df_result['county']==cty, 'y_true'], \n",
        "        df_result.loc[df_result['county']==cty, 'y_pred'], \n",
        "        c = df_result.loc[df_result['county']==cty, 'county'].map(colors),\n",
        "        label = cty\n",
        "    )\n",
        "\n",
        "plt.plot([0, 1000000], [0, 1000000])\n",
        "\n",
        "plt.xlabel('y_true')\n",
        "plt.ylabel('y_pred')\n",
        "plt.legend()\n",
        "plt.axis('scaled')\n",
        "plt.show()"
      ],
      "metadata": {
        "colab": {
          "base_uri": "https://localhost:8080/",
          "height": 465
        },
        "id": "QV63UzyfUIBy",
        "outputId": "5236091e-33fb-4f25-b586-5e4bf08da06b"
      },
      "execution_count": null,
      "outputs": [
        {
          "output_type": "display_data",
          "data": {
            "text/plain": [
              "<Figure size 640x480 with 1 Axes>"
            ],
            "image/png": "[encoded data removed]"
          },
          "metadata": {}
        }
      ]
    },
    {
      "cell_type": "markdown",
      "source": [
        "## Plot historical trends"
      ],
      "metadata": {
        "id": "eTQBZMjmi-DY"
      }
    },
    {
      "cell_type": "code",
      "source": [
        "yearmonth_datetime1 = pd.to_datetime(df_predict[df_predict['yearmonth']>=201501]['yearmonth'].unique(), format='%Y%m')\n",
        "plt.plot(yearmonth_datetime1, df_predict.loc[(df_predict['yearmonth']>=201501)&(df_predict['County']=='CITY OF KINGSTON UPON HULL'), 'price_to_predict'], label='y_true')\n",
        "\n",
        "yearmonth_datetime2 = pd.to_datetime(df_result['yearmonth'].unique(), format='%Y%m')\n",
        "plt.plot(yearmonth_datetime2, df_result.loc[df_result['county']=='CITY OF KINGSTON UPON HULL', 'y_pred'], label='y_pred')\n",
        "\n",
        "plt.legend()\n",
        "plt.title('CITY OF KINGSTON UPON HULL')\n",
        "plt.xticks(rotation=30)\n",
        "plt.show()"
      ],
      "metadata": {
        "colab": {
          "base_uri": "https://localhost:8080/",
          "height": 479
        },
        "id": "X7zNl1b-4TNN",
        "outputId": "36f630d4-3b92-4382-c951-dc83460956ca"
      },
      "execution_count": null,
      "outputs": [
        {
          "output_type": "display_data",
          "data": {
            "text/plain": [
              "<Figure size 640x480 with 1 Axes>"
            ],
            "image/png": "[encoded data removed]"
          },
          "metadata": {}
        }
      ]
    },
    {
      "cell_type": "code",
      "source": [
        "yearmonth_datetime1 = pd.to_datetime(df_predict[df_predict['yearmonth']>=201501]['yearmonth'].unique(), format='%Y%m')\n",
        "plt.plot(yearmonth_datetime1, df_predict.loc[(df_predict['yearmonth']>=201501)&(df_predict['County']=='NEWPORT'), 'price_to_predict'], label='y_true')\n",
        "\n",
        "yearmonth_datetime2 = pd.to_datetime(df_result['yearmonth'].unique(), format='%Y%m')\n",
        "plt.plot(yearmonth_datetime2, df_result.loc[df_result['county']=='NEWPORT', 'y_pred'], label='y_pred')\n",
        "\n",
        "plt.legend()\n",
        "plt.title('NEWPORT')\n",
        "plt.xticks(rotation=30)\n",
        "plt.show()"
      ],
      "metadata": {
        "colab": {
          "base_uri": "https://localhost:8080/",
          "height": 479
        },
        "id": "TgdraqopZMIy",
        "outputId": "c84f5fb4-100d-4248-8c60-d2f75257bf8b"
      },
      "execution_count": null,
      "outputs": [
        {
          "output_type": "display_data",
          "data": {
            "text/plain": [
              "<Figure size 640x480 with 1 Axes>"
            ],
            "image/png": "[encoded data removed]"
          },
          "metadata": {}
        }
      ]
    },
    {
      "cell_type": "code",
      "source": [
        "df_tmp = df_predict[df_predict['yearmonth']>=201501]\n",
        "yearmonth_datetime1 = pd.to_datetime(df_tmp['yearmonth'].unique(), format='%Y%m')\n",
        "mean_price1 = df_tmp.groupby('yearmonth', as_index=False).agg({'Price': 'mean'})['Price']\n",
        "plt.plot(yearmonth_datetime1, mean_price1, label='y_true')\n",
        "\n",
        "yearmonth_datetime2 = pd.to_datetime(df_result['yearmonth'].unique(), format='%Y%m')\n",
        "mean_price2 = df_result.groupby('yearmonth', as_index=False).agg({'y_pred': 'mean'})['y_pred']\n",
        "plt.plot(yearmonth_datetime2, mean_price2, label='y_pred')\n",
        "\n",
        "plt.legend()\n",
        "plt.ylabel('Mean Price')\n",
        "plt.title('All Counties')\n",
        "plt.xticks(rotation=30)\n",
        "plt.show()"
      ],
      "metadata": {
        "colab": {
          "base_uri": "https://localhost:8080/",
          "height": 479
        },
        "id": "HNAUvRRvgj7n",
        "outputId": "31afd494-cb29-4c56-ead1-d16c83b462b3"
      },
      "execution_count": null,
      "outputs": [
        {
          "output_type": "display_data",
          "data": {
            "text/plain": [
              "<Figure size 640x480 with 1 Axes>"
            ],
            "image/png": "[encoded data removed]"
          },
          "metadata": {}
        }
      ]
    },
    {
      "cell_type": "markdown",
      "source": [
        "Percentage of under-predict data"
      ],
      "metadata": {
        "id": "49Ej9R2botIJ"
      }
    },
    {
      "cell_type": "code",
      "source": [
        "df_result[df_result['y_pred']<df_result['y_true']].shape[0] / df_result.shape[0]"
      ],
      "metadata": {
        "colab": {
          "base_uri": "https://localhost:8080/"
        },
        "id": "aoBqbzSfoGI-",
        "outputId": "e6c8088e-0eaf-4861-ecb0-d7b4686728de"
      },
      "execution_count": null,
      "outputs": [
        {
          "output_type": "execute_result",
          "data": {
            "text/plain": [
              "0.48214285714285715"
            ]
          },
          "metadata": {},
          "execution_count": 57
        }
      ]
    },
    {
      "cell_type": "markdown",
      "source": [
        "Further work:\n",
        "- Spikes for specific couties and months need to be handled"
      ],
      "metadata": {
        "id": "-EB4WLBynFNX"
      }
    },
    {
      "cell_type": "code",
      "source": [],
      "metadata": {
        "id": "Z3IhMuoRnEPm"
      },
      "execution_count": null,
      "outputs": []
    }
  ]
}